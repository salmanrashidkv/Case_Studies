{
 "cells": [
  {
   "cell_type": "code",
   "execution_count": 286,
   "id": "eddd6905",
   "metadata": {},
   "outputs": [],
   "source": [
    "import numpy as np\n",
    "import pandas as pd\n",
    "import matplotlib.pyplot as plt\n",
    "import seaborn as sns\n",
    "from sklearn.preprocessing import MinMaxScaler\n",
    "from sklearn.model_selection import train_test_split"
   ]
  },
  {
   "cell_type": "code",
   "execution_count": 287,
   "id": "7d49c933",
   "metadata": {},
   "outputs": [
    {
     "data": {
      "text/html": [
       "<div>\n",
       "<style scoped>\n",
       "    .dataframe tbody tr th:only-of-type {\n",
       "        vertical-align: middle;\n",
       "    }\n",
       "\n",
       "    .dataframe tbody tr th {\n",
       "        vertical-align: top;\n",
       "    }\n",
       "\n",
       "    .dataframe thead th {\n",
       "        text-align: right;\n",
       "    }\n",
       "</style>\n",
       "<table border=\"1\" class=\"dataframe\">\n",
       "  <thead>\n",
       "    <tr style=\"text-align: right;\">\n",
       "      <th></th>\n",
       "      <th>name</th>\n",
       "      <th>MDVP:Fo(Hz)</th>\n",
       "      <th>MDVP:Fhi(Hz)</th>\n",
       "      <th>MDVP:Flo(Hz)</th>\n",
       "      <th>MDVP:Jitter(%)</th>\n",
       "      <th>MDVP:Jitter(Abs)</th>\n",
       "      <th>MDVP:RAP</th>\n",
       "      <th>MDVP:PPQ</th>\n",
       "      <th>Jitter:DDP</th>\n",
       "      <th>MDVP:Shimmer</th>\n",
       "      <th>...</th>\n",
       "      <th>Shimmer:DDA</th>\n",
       "      <th>NHR</th>\n",
       "      <th>HNR</th>\n",
       "      <th>status</th>\n",
       "      <th>RPDE</th>\n",
       "      <th>DFA</th>\n",
       "      <th>spread1</th>\n",
       "      <th>spread2</th>\n",
       "      <th>D2</th>\n",
       "      <th>PPE</th>\n",
       "    </tr>\n",
       "  </thead>\n",
       "  <tbody>\n",
       "    <tr>\n",
       "      <th>0</th>\n",
       "      <td>phon_R01_S01_1</td>\n",
       "      <td>119.992</td>\n",
       "      <td>157.302</td>\n",
       "      <td>74.997</td>\n",
       "      <td>0.00784</td>\n",
       "      <td>0.00007</td>\n",
       "      <td>0.00370</td>\n",
       "      <td>0.00554</td>\n",
       "      <td>0.01109</td>\n",
       "      <td>0.04374</td>\n",
       "      <td>...</td>\n",
       "      <td>0.06545</td>\n",
       "      <td>0.02211</td>\n",
       "      <td>21.033</td>\n",
       "      <td>1</td>\n",
       "      <td>0.414783</td>\n",
       "      <td>0.815285</td>\n",
       "      <td>-4.813031</td>\n",
       "      <td>0.266482</td>\n",
       "      <td>2.301442</td>\n",
       "      <td>0.284654</td>\n",
       "    </tr>\n",
       "    <tr>\n",
       "      <th>1</th>\n",
       "      <td>phon_R01_S01_2</td>\n",
       "      <td>122.400</td>\n",
       "      <td>148.650</td>\n",
       "      <td>113.819</td>\n",
       "      <td>0.00968</td>\n",
       "      <td>0.00008</td>\n",
       "      <td>0.00465</td>\n",
       "      <td>0.00696</td>\n",
       "      <td>0.01394</td>\n",
       "      <td>0.06134</td>\n",
       "      <td>...</td>\n",
       "      <td>0.09403</td>\n",
       "      <td>0.01929</td>\n",
       "      <td>19.085</td>\n",
       "      <td>1</td>\n",
       "      <td>0.458359</td>\n",
       "      <td>0.819521</td>\n",
       "      <td>-4.075192</td>\n",
       "      <td>0.335590</td>\n",
       "      <td>2.486855</td>\n",
       "      <td>0.368674</td>\n",
       "    </tr>\n",
       "    <tr>\n",
       "      <th>2</th>\n",
       "      <td>phon_R01_S01_3</td>\n",
       "      <td>116.682</td>\n",
       "      <td>131.111</td>\n",
       "      <td>111.555</td>\n",
       "      <td>0.01050</td>\n",
       "      <td>0.00009</td>\n",
       "      <td>0.00544</td>\n",
       "      <td>0.00781</td>\n",
       "      <td>0.01633</td>\n",
       "      <td>0.05233</td>\n",
       "      <td>...</td>\n",
       "      <td>0.08270</td>\n",
       "      <td>0.01309</td>\n",
       "      <td>20.651</td>\n",
       "      <td>1</td>\n",
       "      <td>0.429895</td>\n",
       "      <td>0.825288</td>\n",
       "      <td>-4.443179</td>\n",
       "      <td>0.311173</td>\n",
       "      <td>2.342259</td>\n",
       "      <td>0.332634</td>\n",
       "    </tr>\n",
       "    <tr>\n",
       "      <th>3</th>\n",
       "      <td>phon_R01_S01_4</td>\n",
       "      <td>116.676</td>\n",
       "      <td>137.871</td>\n",
       "      <td>111.366</td>\n",
       "      <td>0.00997</td>\n",
       "      <td>0.00009</td>\n",
       "      <td>0.00502</td>\n",
       "      <td>0.00698</td>\n",
       "      <td>0.01505</td>\n",
       "      <td>0.05492</td>\n",
       "      <td>...</td>\n",
       "      <td>0.08771</td>\n",
       "      <td>0.01353</td>\n",
       "      <td>20.644</td>\n",
       "      <td>1</td>\n",
       "      <td>0.434969</td>\n",
       "      <td>0.819235</td>\n",
       "      <td>-4.117501</td>\n",
       "      <td>0.334147</td>\n",
       "      <td>2.405554</td>\n",
       "      <td>0.368975</td>\n",
       "    </tr>\n",
       "    <tr>\n",
       "      <th>4</th>\n",
       "      <td>phon_R01_S01_5</td>\n",
       "      <td>116.014</td>\n",
       "      <td>141.781</td>\n",
       "      <td>110.655</td>\n",
       "      <td>0.01284</td>\n",
       "      <td>0.00011</td>\n",
       "      <td>0.00655</td>\n",
       "      <td>0.00908</td>\n",
       "      <td>0.01966</td>\n",
       "      <td>0.06425</td>\n",
       "      <td>...</td>\n",
       "      <td>0.10470</td>\n",
       "      <td>0.01767</td>\n",
       "      <td>19.649</td>\n",
       "      <td>1</td>\n",
       "      <td>0.417356</td>\n",
       "      <td>0.823484</td>\n",
       "      <td>-3.747787</td>\n",
       "      <td>0.234513</td>\n",
       "      <td>2.332180</td>\n",
       "      <td>0.410335</td>\n",
       "    </tr>\n",
       "    <tr>\n",
       "      <th>5</th>\n",
       "      <td>phon_R01_S01_6</td>\n",
       "      <td>120.552</td>\n",
       "      <td>131.162</td>\n",
       "      <td>113.787</td>\n",
       "      <td>0.00968</td>\n",
       "      <td>0.00008</td>\n",
       "      <td>0.00463</td>\n",
       "      <td>0.00750</td>\n",
       "      <td>0.01388</td>\n",
       "      <td>0.04701</td>\n",
       "      <td>...</td>\n",
       "      <td>0.06985</td>\n",
       "      <td>0.01222</td>\n",
       "      <td>21.378</td>\n",
       "      <td>1</td>\n",
       "      <td>0.415564</td>\n",
       "      <td>0.825069</td>\n",
       "      <td>-4.242867</td>\n",
       "      <td>0.299111</td>\n",
       "      <td>2.187560</td>\n",
       "      <td>0.357775</td>\n",
       "    </tr>\n",
       "    <tr>\n",
       "      <th>6</th>\n",
       "      <td>phon_R01_S02_1</td>\n",
       "      <td>120.267</td>\n",
       "      <td>137.244</td>\n",
       "      <td>114.820</td>\n",
       "      <td>0.00333</td>\n",
       "      <td>0.00003</td>\n",
       "      <td>0.00155</td>\n",
       "      <td>0.00202</td>\n",
       "      <td>0.00466</td>\n",
       "      <td>0.01608</td>\n",
       "      <td>...</td>\n",
       "      <td>0.02337</td>\n",
       "      <td>0.00607</td>\n",
       "      <td>24.886</td>\n",
       "      <td>1</td>\n",
       "      <td>0.596040</td>\n",
       "      <td>0.764112</td>\n",
       "      <td>-5.634322</td>\n",
       "      <td>0.257682</td>\n",
       "      <td>1.854785</td>\n",
       "      <td>0.211756</td>\n",
       "    </tr>\n",
       "    <tr>\n",
       "      <th>7</th>\n",
       "      <td>phon_R01_S02_2</td>\n",
       "      <td>107.332</td>\n",
       "      <td>113.840</td>\n",
       "      <td>104.315</td>\n",
       "      <td>0.00290</td>\n",
       "      <td>0.00003</td>\n",
       "      <td>0.00144</td>\n",
       "      <td>0.00182</td>\n",
       "      <td>0.00431</td>\n",
       "      <td>0.01567</td>\n",
       "      <td>...</td>\n",
       "      <td>0.02487</td>\n",
       "      <td>0.00344</td>\n",
       "      <td>26.892</td>\n",
       "      <td>1</td>\n",
       "      <td>0.637420</td>\n",
       "      <td>0.763262</td>\n",
       "      <td>-6.167603</td>\n",
       "      <td>0.183721</td>\n",
       "      <td>2.064693</td>\n",
       "      <td>0.163755</td>\n",
       "    </tr>\n",
       "    <tr>\n",
       "      <th>8</th>\n",
       "      <td>phon_R01_S02_3</td>\n",
       "      <td>95.730</td>\n",
       "      <td>132.068</td>\n",
       "      <td>91.754</td>\n",
       "      <td>0.00551</td>\n",
       "      <td>0.00006</td>\n",
       "      <td>0.00293</td>\n",
       "      <td>0.00332</td>\n",
       "      <td>0.00880</td>\n",
       "      <td>0.02093</td>\n",
       "      <td>...</td>\n",
       "      <td>0.03218</td>\n",
       "      <td>0.01070</td>\n",
       "      <td>21.812</td>\n",
       "      <td>1</td>\n",
       "      <td>0.615551</td>\n",
       "      <td>0.773587</td>\n",
       "      <td>-5.498678</td>\n",
       "      <td>0.327769</td>\n",
       "      <td>2.322511</td>\n",
       "      <td>0.231571</td>\n",
       "    </tr>\n",
       "    <tr>\n",
       "      <th>9</th>\n",
       "      <td>phon_R01_S02_4</td>\n",
       "      <td>95.056</td>\n",
       "      <td>120.103</td>\n",
       "      <td>91.226</td>\n",
       "      <td>0.00532</td>\n",
       "      <td>0.00006</td>\n",
       "      <td>0.00268</td>\n",
       "      <td>0.00332</td>\n",
       "      <td>0.00803</td>\n",
       "      <td>0.02838</td>\n",
       "      <td>...</td>\n",
       "      <td>0.04324</td>\n",
       "      <td>0.01022</td>\n",
       "      <td>21.862</td>\n",
       "      <td>1</td>\n",
       "      <td>0.547037</td>\n",
       "      <td>0.798463</td>\n",
       "      <td>-5.011879</td>\n",
       "      <td>0.325996</td>\n",
       "      <td>2.432792</td>\n",
       "      <td>0.271362</td>\n",
       "    </tr>\n",
       "  </tbody>\n",
       "</table>\n",
       "<p>10 rows × 24 columns</p>\n",
       "</div>"
      ],
      "text/plain": [
       "             name  MDVP:Fo(Hz)  MDVP:Fhi(Hz)  MDVP:Flo(Hz)  MDVP:Jitter(%)  \\\n",
       "0  phon_R01_S01_1      119.992       157.302        74.997         0.00784   \n",
       "1  phon_R01_S01_2      122.400       148.650       113.819         0.00968   \n",
       "2  phon_R01_S01_3      116.682       131.111       111.555         0.01050   \n",
       "3  phon_R01_S01_4      116.676       137.871       111.366         0.00997   \n",
       "4  phon_R01_S01_5      116.014       141.781       110.655         0.01284   \n",
       "5  phon_R01_S01_6      120.552       131.162       113.787         0.00968   \n",
       "6  phon_R01_S02_1      120.267       137.244       114.820         0.00333   \n",
       "7  phon_R01_S02_2      107.332       113.840       104.315         0.00290   \n",
       "8  phon_R01_S02_3       95.730       132.068        91.754         0.00551   \n",
       "9  phon_R01_S02_4       95.056       120.103        91.226         0.00532   \n",
       "\n",
       "   MDVP:Jitter(Abs)  MDVP:RAP  MDVP:PPQ  Jitter:DDP  MDVP:Shimmer  ...  \\\n",
       "0           0.00007   0.00370   0.00554     0.01109       0.04374  ...   \n",
       "1           0.00008   0.00465   0.00696     0.01394       0.06134  ...   \n",
       "2           0.00009   0.00544   0.00781     0.01633       0.05233  ...   \n",
       "3           0.00009   0.00502   0.00698     0.01505       0.05492  ...   \n",
       "4           0.00011   0.00655   0.00908     0.01966       0.06425  ...   \n",
       "5           0.00008   0.00463   0.00750     0.01388       0.04701  ...   \n",
       "6           0.00003   0.00155   0.00202     0.00466       0.01608  ...   \n",
       "7           0.00003   0.00144   0.00182     0.00431       0.01567  ...   \n",
       "8           0.00006   0.00293   0.00332     0.00880       0.02093  ...   \n",
       "9           0.00006   0.00268   0.00332     0.00803       0.02838  ...   \n",
       "\n",
       "   Shimmer:DDA      NHR     HNR  status      RPDE       DFA   spread1  \\\n",
       "0      0.06545  0.02211  21.033       1  0.414783  0.815285 -4.813031   \n",
       "1      0.09403  0.01929  19.085       1  0.458359  0.819521 -4.075192   \n",
       "2      0.08270  0.01309  20.651       1  0.429895  0.825288 -4.443179   \n",
       "3      0.08771  0.01353  20.644       1  0.434969  0.819235 -4.117501   \n",
       "4      0.10470  0.01767  19.649       1  0.417356  0.823484 -3.747787   \n",
       "5      0.06985  0.01222  21.378       1  0.415564  0.825069 -4.242867   \n",
       "6      0.02337  0.00607  24.886       1  0.596040  0.764112 -5.634322   \n",
       "7      0.02487  0.00344  26.892       1  0.637420  0.763262 -6.167603   \n",
       "8      0.03218  0.01070  21.812       1  0.615551  0.773587 -5.498678   \n",
       "9      0.04324  0.01022  21.862       1  0.547037  0.798463 -5.011879   \n",
       "\n",
       "    spread2        D2       PPE  \n",
       "0  0.266482  2.301442  0.284654  \n",
       "1  0.335590  2.486855  0.368674  \n",
       "2  0.311173  2.342259  0.332634  \n",
       "3  0.334147  2.405554  0.368975  \n",
       "4  0.234513  2.332180  0.410335  \n",
       "5  0.299111  2.187560  0.357775  \n",
       "6  0.257682  1.854785  0.211756  \n",
       "7  0.183721  2.064693  0.163755  \n",
       "8  0.327769  2.322511  0.231571  \n",
       "9  0.325996  2.432792  0.271362  \n",
       "\n",
       "[10 rows x 24 columns]"
      ]
     },
     "execution_count": 287,
     "metadata": {},
     "output_type": "execute_result"
    }
   ],
   "source": [
    "# Load the dataset\n",
    "df=pd.read_csv('parkinsons.csv')\n",
    "df.head(10)"
   ]
  },
  {
   "cell_type": "markdown",
   "id": "8a77cd50",
   "metadata": {},
   "source": [
    "- There are a total of 24 columns. In these, 'name' column can be omitted.\n",
    "- The 'status' column is the target variable and remaining are attributes."
   ]
  },
  {
   "cell_type": "markdown",
   "id": "39af128c",
   "metadata": {},
   "source": [
    "### Exploratory Data Analysis of the given dataset"
   ]
  },
  {
   "cell_type": "code",
   "execution_count": 288,
   "id": "0362ab74",
   "metadata": {},
   "outputs": [
    {
     "data": {
      "text/plain": [
       "(195, 24)"
      ]
     },
     "execution_count": 288,
     "metadata": {},
     "output_type": "execute_result"
    }
   ],
   "source": [
    "df.shape"
   ]
  },
  {
   "cell_type": "code",
   "execution_count": 289,
   "id": "1e52da9d",
   "metadata": {},
   "outputs": [
    {
     "data": {
      "text/plain": [
       "Index(['name', 'MDVP:Fo(Hz)', 'MDVP:Fhi(Hz)', 'MDVP:Flo(Hz)', 'MDVP:Jitter(%)',\n",
       "       'MDVP:Jitter(Abs)', 'MDVP:RAP', 'MDVP:PPQ', 'Jitter:DDP',\n",
       "       'MDVP:Shimmer', 'MDVP:Shimmer(dB)', 'Shimmer:APQ3', 'Shimmer:APQ5',\n",
       "       'MDVP:APQ', 'Shimmer:DDA', 'NHR', 'HNR', 'status', 'RPDE', 'DFA',\n",
       "       'spread1', 'spread2', 'D2', 'PPE'],\n",
       "      dtype='object')"
      ]
     },
     "execution_count": 289,
     "metadata": {},
     "output_type": "execute_result"
    }
   ],
   "source": [
    "df.columns"
   ]
  },
  {
   "cell_type": "code",
   "execution_count": 290,
   "id": "e6ab2a56",
   "metadata": {},
   "outputs": [
    {
     "data": {
      "text/plain": [
       "name                 object\n",
       "MDVP:Fo(Hz)         float64\n",
       "MDVP:Fhi(Hz)        float64\n",
       "MDVP:Flo(Hz)        float64\n",
       "MDVP:Jitter(%)      float64\n",
       "MDVP:Jitter(Abs)    float64\n",
       "MDVP:RAP            float64\n",
       "MDVP:PPQ            float64\n",
       "Jitter:DDP          float64\n",
       "MDVP:Shimmer        float64\n",
       "MDVP:Shimmer(dB)    float64\n",
       "Shimmer:APQ3        float64\n",
       "Shimmer:APQ5        float64\n",
       "MDVP:APQ            float64\n",
       "Shimmer:DDA         float64\n",
       "NHR                 float64\n",
       "HNR                 float64\n",
       "status                int64\n",
       "RPDE                float64\n",
       "DFA                 float64\n",
       "spread1             float64\n",
       "spread2             float64\n",
       "D2                  float64\n",
       "PPE                 float64\n",
       "dtype: object"
      ]
     },
     "execution_count": 290,
     "metadata": {},
     "output_type": "execute_result"
    }
   ],
   "source": [
    "df.dtypes"
   ]
  },
  {
   "cell_type": "markdown",
   "id": "1da1a040",
   "metadata": {},
   "source": [
    "- All the attributes are float type. So, no need of any encoding of attributes."
   ]
  },
  {
   "cell_type": "code",
   "execution_count": 291,
   "id": "f10f4da6",
   "metadata": {},
   "outputs": [
    {
     "name": "stdout",
     "output_type": "stream",
     "text": [
      "<class 'pandas.core.frame.DataFrame'>\n",
      "RangeIndex: 195 entries, 0 to 194\n",
      "Data columns (total 24 columns):\n",
      " #   Column            Non-Null Count  Dtype  \n",
      "---  ------            --------------  -----  \n",
      " 0   name              195 non-null    object \n",
      " 1   MDVP:Fo(Hz)       195 non-null    float64\n",
      " 2   MDVP:Fhi(Hz)      195 non-null    float64\n",
      " 3   MDVP:Flo(Hz)      195 non-null    float64\n",
      " 4   MDVP:Jitter(%)    195 non-null    float64\n",
      " 5   MDVP:Jitter(Abs)  195 non-null    float64\n",
      " 6   MDVP:RAP          195 non-null    float64\n",
      " 7   MDVP:PPQ          195 non-null    float64\n",
      " 8   Jitter:DDP        195 non-null    float64\n",
      " 9   MDVP:Shimmer      195 non-null    float64\n",
      " 10  MDVP:Shimmer(dB)  195 non-null    float64\n",
      " 11  Shimmer:APQ3      195 non-null    float64\n",
      " 12  Shimmer:APQ5      195 non-null    float64\n",
      " 13  MDVP:APQ          195 non-null    float64\n",
      " 14  Shimmer:DDA       195 non-null    float64\n",
      " 15  NHR               195 non-null    float64\n",
      " 16  HNR               195 non-null    float64\n",
      " 17  status            195 non-null    int64  \n",
      " 18  RPDE              195 non-null    float64\n",
      " 19  DFA               195 non-null    float64\n",
      " 20  spread1           195 non-null    float64\n",
      " 21  spread2           195 non-null    float64\n",
      " 22  D2                195 non-null    float64\n",
      " 23  PPE               195 non-null    float64\n",
      "dtypes: float64(22), int64(1), object(1)\n",
      "memory usage: 36.7+ KB\n"
     ]
    }
   ],
   "source": [
    "df.info()"
   ]
  },
  {
   "cell_type": "code",
   "execution_count": 292,
   "id": "5c44845b",
   "metadata": {},
   "outputs": [
    {
     "data": {
      "text/plain": [
       "name                0\n",
       "MDVP:Fo(Hz)         0\n",
       "MDVP:Fhi(Hz)        0\n",
       "MDVP:Flo(Hz)        0\n",
       "MDVP:Jitter(%)      0\n",
       "MDVP:Jitter(Abs)    0\n",
       "MDVP:RAP            0\n",
       "MDVP:PPQ            0\n",
       "Jitter:DDP          0\n",
       "MDVP:Shimmer        0\n",
       "MDVP:Shimmer(dB)    0\n",
       "Shimmer:APQ3        0\n",
       "Shimmer:APQ5        0\n",
       "MDVP:APQ            0\n",
       "Shimmer:DDA         0\n",
       "NHR                 0\n",
       "HNR                 0\n",
       "status              0\n",
       "RPDE                0\n",
       "DFA                 0\n",
       "spread1             0\n",
       "spread2             0\n",
       "D2                  0\n",
       "PPE                 0\n",
       "dtype: int64"
      ]
     },
     "execution_count": 292,
     "metadata": {},
     "output_type": "execute_result"
    }
   ],
   "source": [
    "df.isna().sum()"
   ]
  },
  {
   "cell_type": "markdown",
   "id": "f0ac0fba",
   "metadata": {},
   "source": [
    "- All the attributes are filled and there are no null values in the dataset."
   ]
  },
  {
   "cell_type": "code",
   "execution_count": 293,
   "id": "32633971",
   "metadata": {},
   "outputs": [
    {
     "data": {
      "text/plain": [
       "array([['phon_R01_S01_1', 119.992, 157.302, ..., 0.266482, 2.301442,\n",
       "        0.284654],\n",
       "       ['phon_R01_S01_2', 122.4, 148.65, ..., 0.33559, 2.486855,\n",
       "        0.368674],\n",
       "       ['phon_R01_S01_3', 116.682, 131.111, ..., 0.311173, 2.342259,\n",
       "        0.332634],\n",
       "       ...,\n",
       "       ['phon_R01_S50_4', 174.688, 240.005, ..., 0.158453, 2.679772,\n",
       "        0.131728],\n",
       "       ['phon_R01_S50_5', 198.764, 396.961, ..., 0.207454, 2.138608,\n",
       "        0.123306],\n",
       "       ['phon_R01_S50_6', 214.289, 260.277, ..., 0.190667, 2.555477,\n",
       "        0.148569]], dtype=object)"
      ]
     },
     "execution_count": 293,
     "metadata": {},
     "output_type": "execute_result"
    }
   ],
   "source": [
    "df.values"
   ]
  },
  {
   "cell_type": "code",
   "execution_count": 294,
   "id": "10a03149",
   "metadata": {},
   "outputs": [
    {
     "data": {
      "text/plain": [
       "name                195\n",
       "MDVP:Fo(Hz)         195\n",
       "MDVP:Fhi(Hz)        195\n",
       "MDVP:Flo(Hz)        195\n",
       "MDVP:Jitter(%)      173\n",
       "MDVP:Jitter(Abs)     19\n",
       "MDVP:RAP            155\n",
       "MDVP:PPQ            165\n",
       "Jitter:DDP          180\n",
       "MDVP:Shimmer        188\n",
       "MDVP:Shimmer(dB)    149\n",
       "Shimmer:APQ3        184\n",
       "Shimmer:APQ5        189\n",
       "MDVP:APQ            189\n",
       "Shimmer:DDA         189\n",
       "NHR                 185\n",
       "HNR                 195\n",
       "status                2\n",
       "RPDE                195\n",
       "DFA                 195\n",
       "spread1             195\n",
       "spread2             194\n",
       "D2                  195\n",
       "PPE                 195\n",
       "dtype: int64"
      ]
     },
     "execution_count": 294,
     "metadata": {},
     "output_type": "execute_result"
    }
   ],
   "source": [
    "df.nunique()"
   ]
  },
  {
   "cell_type": "code",
   "execution_count": 295,
   "id": "39bf288b",
   "metadata": {},
   "outputs": [
    {
     "data": {
      "text/html": [
       "<div>\n",
       "<style scoped>\n",
       "    .dataframe tbody tr th:only-of-type {\n",
       "        vertical-align: middle;\n",
       "    }\n",
       "\n",
       "    .dataframe tbody tr th {\n",
       "        vertical-align: top;\n",
       "    }\n",
       "\n",
       "    .dataframe thead th {\n",
       "        text-align: right;\n",
       "    }\n",
       "</style>\n",
       "<table border=\"1\" class=\"dataframe\">\n",
       "  <thead>\n",
       "    <tr style=\"text-align: right;\">\n",
       "      <th></th>\n",
       "      <th>count</th>\n",
       "      <th>mean</th>\n",
       "      <th>std</th>\n",
       "      <th>min</th>\n",
       "      <th>25%</th>\n",
       "      <th>50%</th>\n",
       "      <th>75%</th>\n",
       "      <th>max</th>\n",
       "    </tr>\n",
       "  </thead>\n",
       "  <tbody>\n",
       "    <tr>\n",
       "      <th>MDVP:Fo(Hz)</th>\n",
       "      <td>195.0</td>\n",
       "      <td>154.228641</td>\n",
       "      <td>41.390065</td>\n",
       "      <td>88.333000</td>\n",
       "      <td>117.572000</td>\n",
       "      <td>148.790000</td>\n",
       "      <td>182.769000</td>\n",
       "      <td>260.105000</td>\n",
       "    </tr>\n",
       "    <tr>\n",
       "      <th>MDVP:Fhi(Hz)</th>\n",
       "      <td>195.0</td>\n",
       "      <td>197.104918</td>\n",
       "      <td>91.491548</td>\n",
       "      <td>102.145000</td>\n",
       "      <td>134.862500</td>\n",
       "      <td>175.829000</td>\n",
       "      <td>224.205500</td>\n",
       "      <td>592.030000</td>\n",
       "    </tr>\n",
       "    <tr>\n",
       "      <th>MDVP:Flo(Hz)</th>\n",
       "      <td>195.0</td>\n",
       "      <td>116.324631</td>\n",
       "      <td>43.521413</td>\n",
       "      <td>65.476000</td>\n",
       "      <td>84.291000</td>\n",
       "      <td>104.315000</td>\n",
       "      <td>140.018500</td>\n",
       "      <td>239.170000</td>\n",
       "    </tr>\n",
       "    <tr>\n",
       "      <th>MDVP:Jitter(%)</th>\n",
       "      <td>195.0</td>\n",
       "      <td>0.006220</td>\n",
       "      <td>0.004848</td>\n",
       "      <td>0.001680</td>\n",
       "      <td>0.003460</td>\n",
       "      <td>0.004940</td>\n",
       "      <td>0.007365</td>\n",
       "      <td>0.033160</td>\n",
       "    </tr>\n",
       "    <tr>\n",
       "      <th>MDVP:Jitter(Abs)</th>\n",
       "      <td>195.0</td>\n",
       "      <td>0.000044</td>\n",
       "      <td>0.000035</td>\n",
       "      <td>0.000007</td>\n",
       "      <td>0.000020</td>\n",
       "      <td>0.000030</td>\n",
       "      <td>0.000060</td>\n",
       "      <td>0.000260</td>\n",
       "    </tr>\n",
       "    <tr>\n",
       "      <th>MDVP:RAP</th>\n",
       "      <td>195.0</td>\n",
       "      <td>0.003306</td>\n",
       "      <td>0.002968</td>\n",
       "      <td>0.000680</td>\n",
       "      <td>0.001660</td>\n",
       "      <td>0.002500</td>\n",
       "      <td>0.003835</td>\n",
       "      <td>0.021440</td>\n",
       "    </tr>\n",
       "    <tr>\n",
       "      <th>MDVP:PPQ</th>\n",
       "      <td>195.0</td>\n",
       "      <td>0.003446</td>\n",
       "      <td>0.002759</td>\n",
       "      <td>0.000920</td>\n",
       "      <td>0.001860</td>\n",
       "      <td>0.002690</td>\n",
       "      <td>0.003955</td>\n",
       "      <td>0.019580</td>\n",
       "    </tr>\n",
       "    <tr>\n",
       "      <th>Jitter:DDP</th>\n",
       "      <td>195.0</td>\n",
       "      <td>0.009920</td>\n",
       "      <td>0.008903</td>\n",
       "      <td>0.002040</td>\n",
       "      <td>0.004985</td>\n",
       "      <td>0.007490</td>\n",
       "      <td>0.011505</td>\n",
       "      <td>0.064330</td>\n",
       "    </tr>\n",
       "    <tr>\n",
       "      <th>MDVP:Shimmer</th>\n",
       "      <td>195.0</td>\n",
       "      <td>0.029709</td>\n",
       "      <td>0.018857</td>\n",
       "      <td>0.009540</td>\n",
       "      <td>0.016505</td>\n",
       "      <td>0.022970</td>\n",
       "      <td>0.037885</td>\n",
       "      <td>0.119080</td>\n",
       "    </tr>\n",
       "    <tr>\n",
       "      <th>MDVP:Shimmer(dB)</th>\n",
       "      <td>195.0</td>\n",
       "      <td>0.282251</td>\n",
       "      <td>0.194877</td>\n",
       "      <td>0.085000</td>\n",
       "      <td>0.148500</td>\n",
       "      <td>0.221000</td>\n",
       "      <td>0.350000</td>\n",
       "      <td>1.302000</td>\n",
       "    </tr>\n",
       "    <tr>\n",
       "      <th>Shimmer:APQ3</th>\n",
       "      <td>195.0</td>\n",
       "      <td>0.015664</td>\n",
       "      <td>0.010153</td>\n",
       "      <td>0.004550</td>\n",
       "      <td>0.008245</td>\n",
       "      <td>0.012790</td>\n",
       "      <td>0.020265</td>\n",
       "      <td>0.056470</td>\n",
       "    </tr>\n",
       "    <tr>\n",
       "      <th>Shimmer:APQ5</th>\n",
       "      <td>195.0</td>\n",
       "      <td>0.017878</td>\n",
       "      <td>0.012024</td>\n",
       "      <td>0.005700</td>\n",
       "      <td>0.009580</td>\n",
       "      <td>0.013470</td>\n",
       "      <td>0.022380</td>\n",
       "      <td>0.079400</td>\n",
       "    </tr>\n",
       "    <tr>\n",
       "      <th>MDVP:APQ</th>\n",
       "      <td>195.0</td>\n",
       "      <td>0.024081</td>\n",
       "      <td>0.016947</td>\n",
       "      <td>0.007190</td>\n",
       "      <td>0.013080</td>\n",
       "      <td>0.018260</td>\n",
       "      <td>0.029400</td>\n",
       "      <td>0.137780</td>\n",
       "    </tr>\n",
       "    <tr>\n",
       "      <th>Shimmer:DDA</th>\n",
       "      <td>195.0</td>\n",
       "      <td>0.046993</td>\n",
       "      <td>0.030459</td>\n",
       "      <td>0.013640</td>\n",
       "      <td>0.024735</td>\n",
       "      <td>0.038360</td>\n",
       "      <td>0.060795</td>\n",
       "      <td>0.169420</td>\n",
       "    </tr>\n",
       "    <tr>\n",
       "      <th>NHR</th>\n",
       "      <td>195.0</td>\n",
       "      <td>0.024847</td>\n",
       "      <td>0.040418</td>\n",
       "      <td>0.000650</td>\n",
       "      <td>0.005925</td>\n",
       "      <td>0.011660</td>\n",
       "      <td>0.025640</td>\n",
       "      <td>0.314820</td>\n",
       "    </tr>\n",
       "    <tr>\n",
       "      <th>HNR</th>\n",
       "      <td>195.0</td>\n",
       "      <td>21.885974</td>\n",
       "      <td>4.425764</td>\n",
       "      <td>8.441000</td>\n",
       "      <td>19.198000</td>\n",
       "      <td>22.085000</td>\n",
       "      <td>25.075500</td>\n",
       "      <td>33.047000</td>\n",
       "    </tr>\n",
       "    <tr>\n",
       "      <th>status</th>\n",
       "      <td>195.0</td>\n",
       "      <td>0.753846</td>\n",
       "      <td>0.431878</td>\n",
       "      <td>0.000000</td>\n",
       "      <td>1.000000</td>\n",
       "      <td>1.000000</td>\n",
       "      <td>1.000000</td>\n",
       "      <td>1.000000</td>\n",
       "    </tr>\n",
       "    <tr>\n",
       "      <th>RPDE</th>\n",
       "      <td>195.0</td>\n",
       "      <td>0.498536</td>\n",
       "      <td>0.103942</td>\n",
       "      <td>0.256570</td>\n",
       "      <td>0.421306</td>\n",
       "      <td>0.495954</td>\n",
       "      <td>0.587562</td>\n",
       "      <td>0.685151</td>\n",
       "    </tr>\n",
       "    <tr>\n",
       "      <th>DFA</th>\n",
       "      <td>195.0</td>\n",
       "      <td>0.718099</td>\n",
       "      <td>0.055336</td>\n",
       "      <td>0.574282</td>\n",
       "      <td>0.674758</td>\n",
       "      <td>0.722254</td>\n",
       "      <td>0.761881</td>\n",
       "      <td>0.825288</td>\n",
       "    </tr>\n",
       "    <tr>\n",
       "      <th>spread1</th>\n",
       "      <td>195.0</td>\n",
       "      <td>-5.684397</td>\n",
       "      <td>1.090208</td>\n",
       "      <td>-7.964984</td>\n",
       "      <td>-6.450096</td>\n",
       "      <td>-5.720868</td>\n",
       "      <td>-5.046192</td>\n",
       "      <td>-2.434031</td>\n",
       "    </tr>\n",
       "    <tr>\n",
       "      <th>spread2</th>\n",
       "      <td>195.0</td>\n",
       "      <td>0.226510</td>\n",
       "      <td>0.083406</td>\n",
       "      <td>0.006274</td>\n",
       "      <td>0.174351</td>\n",
       "      <td>0.218885</td>\n",
       "      <td>0.279234</td>\n",
       "      <td>0.450493</td>\n",
       "    </tr>\n",
       "    <tr>\n",
       "      <th>D2</th>\n",
       "      <td>195.0</td>\n",
       "      <td>2.381826</td>\n",
       "      <td>0.382799</td>\n",
       "      <td>1.423287</td>\n",
       "      <td>2.099125</td>\n",
       "      <td>2.361532</td>\n",
       "      <td>2.636456</td>\n",
       "      <td>3.671155</td>\n",
       "    </tr>\n",
       "    <tr>\n",
       "      <th>PPE</th>\n",
       "      <td>195.0</td>\n",
       "      <td>0.206552</td>\n",
       "      <td>0.090119</td>\n",
       "      <td>0.044539</td>\n",
       "      <td>0.137451</td>\n",
       "      <td>0.194052</td>\n",
       "      <td>0.252980</td>\n",
       "      <td>0.527367</td>\n",
       "    </tr>\n",
       "  </tbody>\n",
       "</table>\n",
       "</div>"
      ],
      "text/plain": [
       "                  count        mean        std         min         25%  \\\n",
       "MDVP:Fo(Hz)       195.0  154.228641  41.390065   88.333000  117.572000   \n",
       "MDVP:Fhi(Hz)      195.0  197.104918  91.491548  102.145000  134.862500   \n",
       "MDVP:Flo(Hz)      195.0  116.324631  43.521413   65.476000   84.291000   \n",
       "MDVP:Jitter(%)    195.0    0.006220   0.004848    0.001680    0.003460   \n",
       "MDVP:Jitter(Abs)  195.0    0.000044   0.000035    0.000007    0.000020   \n",
       "MDVP:RAP          195.0    0.003306   0.002968    0.000680    0.001660   \n",
       "MDVP:PPQ          195.0    0.003446   0.002759    0.000920    0.001860   \n",
       "Jitter:DDP        195.0    0.009920   0.008903    0.002040    0.004985   \n",
       "MDVP:Shimmer      195.0    0.029709   0.018857    0.009540    0.016505   \n",
       "MDVP:Shimmer(dB)  195.0    0.282251   0.194877    0.085000    0.148500   \n",
       "Shimmer:APQ3      195.0    0.015664   0.010153    0.004550    0.008245   \n",
       "Shimmer:APQ5      195.0    0.017878   0.012024    0.005700    0.009580   \n",
       "MDVP:APQ          195.0    0.024081   0.016947    0.007190    0.013080   \n",
       "Shimmer:DDA       195.0    0.046993   0.030459    0.013640    0.024735   \n",
       "NHR               195.0    0.024847   0.040418    0.000650    0.005925   \n",
       "HNR               195.0   21.885974   4.425764    8.441000   19.198000   \n",
       "status            195.0    0.753846   0.431878    0.000000    1.000000   \n",
       "RPDE              195.0    0.498536   0.103942    0.256570    0.421306   \n",
       "DFA               195.0    0.718099   0.055336    0.574282    0.674758   \n",
       "spread1           195.0   -5.684397   1.090208   -7.964984   -6.450096   \n",
       "spread2           195.0    0.226510   0.083406    0.006274    0.174351   \n",
       "D2                195.0    2.381826   0.382799    1.423287    2.099125   \n",
       "PPE               195.0    0.206552   0.090119    0.044539    0.137451   \n",
       "\n",
       "                         50%         75%         max  \n",
       "MDVP:Fo(Hz)       148.790000  182.769000  260.105000  \n",
       "MDVP:Fhi(Hz)      175.829000  224.205500  592.030000  \n",
       "MDVP:Flo(Hz)      104.315000  140.018500  239.170000  \n",
       "MDVP:Jitter(%)      0.004940    0.007365    0.033160  \n",
       "MDVP:Jitter(Abs)    0.000030    0.000060    0.000260  \n",
       "MDVP:RAP            0.002500    0.003835    0.021440  \n",
       "MDVP:PPQ            0.002690    0.003955    0.019580  \n",
       "Jitter:DDP          0.007490    0.011505    0.064330  \n",
       "MDVP:Shimmer        0.022970    0.037885    0.119080  \n",
       "MDVP:Shimmer(dB)    0.221000    0.350000    1.302000  \n",
       "Shimmer:APQ3        0.012790    0.020265    0.056470  \n",
       "Shimmer:APQ5        0.013470    0.022380    0.079400  \n",
       "MDVP:APQ            0.018260    0.029400    0.137780  \n",
       "Shimmer:DDA         0.038360    0.060795    0.169420  \n",
       "NHR                 0.011660    0.025640    0.314820  \n",
       "HNR                22.085000   25.075500   33.047000  \n",
       "status              1.000000    1.000000    1.000000  \n",
       "RPDE                0.495954    0.587562    0.685151  \n",
       "DFA                 0.722254    0.761881    0.825288  \n",
       "spread1            -5.720868   -5.046192   -2.434031  \n",
       "spread2             0.218885    0.279234    0.450493  \n",
       "D2                  2.361532    2.636456    3.671155  \n",
       "PPE                 0.194052    0.252980    0.527367  "
      ]
     },
     "execution_count": 295,
     "metadata": {},
     "output_type": "execute_result"
    }
   ],
   "source": [
    "df.describe().T"
   ]
  },
  {
   "cell_type": "code",
   "execution_count": 381,
   "id": "4a3f97d3",
   "metadata": {},
   "outputs": [
    {
     "name": "stderr",
     "output_type": "stream",
     "text": [
      "C:\\Users\\salma\\AppData\\Local\\Temp\\ipykernel_66392\\868109210.py:1: FutureWarning: The default value of numeric_only in DataFrame.corr is deprecated. In a future version, it will default to False. Select only valid columns or specify the value of numeric_only to silence this warning.\n",
      "  correlation_matrix = df.corr()\n"
     ]
    },
    {
     "data": {
      "text/html": [
       "<div>\n",
       "<style scoped>\n",
       "    .dataframe tbody tr th:only-of-type {\n",
       "        vertical-align: middle;\n",
       "    }\n",
       "\n",
       "    .dataframe tbody tr th {\n",
       "        vertical-align: top;\n",
       "    }\n",
       "\n",
       "    .dataframe thead th {\n",
       "        text-align: right;\n",
       "    }\n",
       "</style>\n",
       "<table border=\"1\" class=\"dataframe\">\n",
       "  <thead>\n",
       "    <tr style=\"text-align: right;\">\n",
       "      <th></th>\n",
       "      <th>MDVP:Fo(Hz)</th>\n",
       "      <th>MDVP:Fhi(Hz)</th>\n",
       "      <th>MDVP:Flo(Hz)</th>\n",
       "      <th>MDVP:Jitter(%)</th>\n",
       "      <th>MDVP:Jitter(Abs)</th>\n",
       "      <th>MDVP:RAP</th>\n",
       "      <th>MDVP:PPQ</th>\n",
       "      <th>Jitter:DDP</th>\n",
       "      <th>MDVP:Shimmer</th>\n",
       "      <th>MDVP:Shimmer(dB)</th>\n",
       "      <th>...</th>\n",
       "      <th>Shimmer:DDA</th>\n",
       "      <th>NHR</th>\n",
       "      <th>HNR</th>\n",
       "      <th>status</th>\n",
       "      <th>RPDE</th>\n",
       "      <th>DFA</th>\n",
       "      <th>spread1</th>\n",
       "      <th>spread2</th>\n",
       "      <th>D2</th>\n",
       "      <th>PPE</th>\n",
       "    </tr>\n",
       "  </thead>\n",
       "  <tbody>\n",
       "    <tr>\n",
       "      <th>MDVP:Fo(Hz)</th>\n",
       "      <td>1.000000</td>\n",
       "      <td>0.400985</td>\n",
       "      <td>0.596546</td>\n",
       "      <td>-0.118003</td>\n",
       "      <td>-0.382027</td>\n",
       "      <td>-0.076194</td>\n",
       "      <td>-0.112165</td>\n",
       "      <td>-0.076213</td>\n",
       "      <td>-0.098374</td>\n",
       "      <td>-0.073742</td>\n",
       "      <td>...</td>\n",
       "      <td>-0.094732</td>\n",
       "      <td>-0.021981</td>\n",
       "      <td>0.059144</td>\n",
       "      <td>-0.383535</td>\n",
       "      <td>-0.383894</td>\n",
       "      <td>-0.446013</td>\n",
       "      <td>-0.413738</td>\n",
       "      <td>-0.249450</td>\n",
       "      <td>0.177980</td>\n",
       "      <td>-0.372356</td>\n",
       "    </tr>\n",
       "    <tr>\n",
       "      <th>MDVP:Fhi(Hz)</th>\n",
       "      <td>0.400985</td>\n",
       "      <td>1.000000</td>\n",
       "      <td>0.084951</td>\n",
       "      <td>0.102086</td>\n",
       "      <td>-0.029198</td>\n",
       "      <td>0.097177</td>\n",
       "      <td>0.091126</td>\n",
       "      <td>0.097150</td>\n",
       "      <td>0.002281</td>\n",
       "      <td>0.043465</td>\n",
       "      <td>...</td>\n",
       "      <td>-0.003733</td>\n",
       "      <td>0.163766</td>\n",
       "      <td>-0.024893</td>\n",
       "      <td>-0.166136</td>\n",
       "      <td>-0.112404</td>\n",
       "      <td>-0.343097</td>\n",
       "      <td>-0.076658</td>\n",
       "      <td>-0.002954</td>\n",
       "      <td>0.176323</td>\n",
       "      <td>-0.069543</td>\n",
       "    </tr>\n",
       "    <tr>\n",
       "      <th>MDVP:Flo(Hz)</th>\n",
       "      <td>0.596546</td>\n",
       "      <td>0.084951</td>\n",
       "      <td>1.000000</td>\n",
       "      <td>-0.139919</td>\n",
       "      <td>-0.277815</td>\n",
       "      <td>-0.100519</td>\n",
       "      <td>-0.095828</td>\n",
       "      <td>-0.100488</td>\n",
       "      <td>-0.144543</td>\n",
       "      <td>-0.119089</td>\n",
       "      <td>...</td>\n",
       "      <td>-0.150737</td>\n",
       "      <td>-0.108670</td>\n",
       "      <td>0.210851</td>\n",
       "      <td>-0.380200</td>\n",
       "      <td>-0.400143</td>\n",
       "      <td>-0.050406</td>\n",
       "      <td>-0.394857</td>\n",
       "      <td>-0.243829</td>\n",
       "      <td>-0.100629</td>\n",
       "      <td>-0.340071</td>\n",
       "    </tr>\n",
       "    <tr>\n",
       "      <th>MDVP:Jitter(%)</th>\n",
       "      <td>-0.118003</td>\n",
       "      <td>0.102086</td>\n",
       "      <td>-0.139919</td>\n",
       "      <td>1.000000</td>\n",
       "      <td>0.935714</td>\n",
       "      <td>0.990276</td>\n",
       "      <td>0.974256</td>\n",
       "      <td>0.990276</td>\n",
       "      <td>0.769063</td>\n",
       "      <td>0.804289</td>\n",
       "      <td>...</td>\n",
       "      <td>0.746635</td>\n",
       "      <td>0.906959</td>\n",
       "      <td>-0.728165</td>\n",
       "      <td>0.278220</td>\n",
       "      <td>0.360673</td>\n",
       "      <td>0.098572</td>\n",
       "      <td>0.693577</td>\n",
       "      <td>0.385123</td>\n",
       "      <td>0.433434</td>\n",
       "      <td>0.721543</td>\n",
       "    </tr>\n",
       "    <tr>\n",
       "      <th>MDVP:Jitter(Abs)</th>\n",
       "      <td>-0.382027</td>\n",
       "      <td>-0.029198</td>\n",
       "      <td>-0.277815</td>\n",
       "      <td>0.935714</td>\n",
       "      <td>1.000000</td>\n",
       "      <td>0.922911</td>\n",
       "      <td>0.897778</td>\n",
       "      <td>0.922913</td>\n",
       "      <td>0.703322</td>\n",
       "      <td>0.716601</td>\n",
       "      <td>...</td>\n",
       "      <td>0.697170</td>\n",
       "      <td>0.834972</td>\n",
       "      <td>-0.656810</td>\n",
       "      <td>0.338653</td>\n",
       "      <td>0.441839</td>\n",
       "      <td>0.175036</td>\n",
       "      <td>0.735779</td>\n",
       "      <td>0.388543</td>\n",
       "      <td>0.310694</td>\n",
       "      <td>0.748162</td>\n",
       "    </tr>\n",
       "    <tr>\n",
       "      <th>MDVP:RAP</th>\n",
       "      <td>-0.076194</td>\n",
       "      <td>0.097177</td>\n",
       "      <td>-0.100519</td>\n",
       "      <td>0.990276</td>\n",
       "      <td>0.922911</td>\n",
       "      <td>1.000000</td>\n",
       "      <td>0.957317</td>\n",
       "      <td>1.000000</td>\n",
       "      <td>0.759581</td>\n",
       "      <td>0.790652</td>\n",
       "      <td>...</td>\n",
       "      <td>0.744919</td>\n",
       "      <td>0.919521</td>\n",
       "      <td>-0.721543</td>\n",
       "      <td>0.266668</td>\n",
       "      <td>0.342140</td>\n",
       "      <td>0.064083</td>\n",
       "      <td>0.648328</td>\n",
       "      <td>0.324407</td>\n",
       "      <td>0.426605</td>\n",
       "      <td>0.670999</td>\n",
       "    </tr>\n",
       "    <tr>\n",
       "      <th>MDVP:PPQ</th>\n",
       "      <td>-0.112165</td>\n",
       "      <td>0.091126</td>\n",
       "      <td>-0.095828</td>\n",
       "      <td>0.974256</td>\n",
       "      <td>0.897778</td>\n",
       "      <td>0.957317</td>\n",
       "      <td>1.000000</td>\n",
       "      <td>0.957319</td>\n",
       "      <td>0.797826</td>\n",
       "      <td>0.839239</td>\n",
       "      <td>...</td>\n",
       "      <td>0.763592</td>\n",
       "      <td>0.844604</td>\n",
       "      <td>-0.731510</td>\n",
       "      <td>0.288698</td>\n",
       "      <td>0.333274</td>\n",
       "      <td>0.196301</td>\n",
       "      <td>0.716489</td>\n",
       "      <td>0.407605</td>\n",
       "      <td>0.412524</td>\n",
       "      <td>0.769647</td>\n",
       "    </tr>\n",
       "    <tr>\n",
       "      <th>Jitter:DDP</th>\n",
       "      <td>-0.076213</td>\n",
       "      <td>0.097150</td>\n",
       "      <td>-0.100488</td>\n",
       "      <td>0.990276</td>\n",
       "      <td>0.922913</td>\n",
       "      <td>1.000000</td>\n",
       "      <td>0.957319</td>\n",
       "      <td>1.000000</td>\n",
       "      <td>0.759555</td>\n",
       "      <td>0.790621</td>\n",
       "      <td>...</td>\n",
       "      <td>0.744901</td>\n",
       "      <td>0.919548</td>\n",
       "      <td>-0.721494</td>\n",
       "      <td>0.266646</td>\n",
       "      <td>0.342079</td>\n",
       "      <td>0.064026</td>\n",
       "      <td>0.648328</td>\n",
       "      <td>0.324377</td>\n",
       "      <td>0.426556</td>\n",
       "      <td>0.671005</td>\n",
       "    </tr>\n",
       "    <tr>\n",
       "      <th>MDVP:Shimmer</th>\n",
       "      <td>-0.098374</td>\n",
       "      <td>0.002281</td>\n",
       "      <td>-0.144543</td>\n",
       "      <td>0.769063</td>\n",
       "      <td>0.703322</td>\n",
       "      <td>0.759581</td>\n",
       "      <td>0.797826</td>\n",
       "      <td>0.759555</td>\n",
       "      <td>1.000000</td>\n",
       "      <td>0.987258</td>\n",
       "      <td>...</td>\n",
       "      <td>0.987626</td>\n",
       "      <td>0.722194</td>\n",
       "      <td>-0.835271</td>\n",
       "      <td>0.367430</td>\n",
       "      <td>0.447424</td>\n",
       "      <td>0.159954</td>\n",
       "      <td>0.654734</td>\n",
       "      <td>0.452025</td>\n",
       "      <td>0.507088</td>\n",
       "      <td>0.693771</td>\n",
       "    </tr>\n",
       "    <tr>\n",
       "      <th>MDVP:Shimmer(dB)</th>\n",
       "      <td>-0.073742</td>\n",
       "      <td>0.043465</td>\n",
       "      <td>-0.119089</td>\n",
       "      <td>0.804289</td>\n",
       "      <td>0.716601</td>\n",
       "      <td>0.790652</td>\n",
       "      <td>0.839239</td>\n",
       "      <td>0.790621</td>\n",
       "      <td>0.987258</td>\n",
       "      <td>1.000000</td>\n",
       "      <td>...</td>\n",
       "      <td>0.963202</td>\n",
       "      <td>0.744477</td>\n",
       "      <td>-0.827805</td>\n",
       "      <td>0.350697</td>\n",
       "      <td>0.410684</td>\n",
       "      <td>0.165157</td>\n",
       "      <td>0.652547</td>\n",
       "      <td>0.454314</td>\n",
       "      <td>0.512233</td>\n",
       "      <td>0.695058</td>\n",
       "    </tr>\n",
       "    <tr>\n",
       "      <th>Shimmer:APQ3</th>\n",
       "      <td>-0.094717</td>\n",
       "      <td>-0.003743</td>\n",
       "      <td>-0.150747</td>\n",
       "      <td>0.746625</td>\n",
       "      <td>0.697153</td>\n",
       "      <td>0.744912</td>\n",
       "      <td>0.763580</td>\n",
       "      <td>0.744894</td>\n",
       "      <td>0.987625</td>\n",
       "      <td>0.963198</td>\n",
       "      <td>...</td>\n",
       "      <td>1.000000</td>\n",
       "      <td>0.716207</td>\n",
       "      <td>-0.827123</td>\n",
       "      <td>0.347617</td>\n",
       "      <td>0.435242</td>\n",
       "      <td>0.151124</td>\n",
       "      <td>0.610967</td>\n",
       "      <td>0.402243</td>\n",
       "      <td>0.467265</td>\n",
       "      <td>0.645377</td>\n",
       "    </tr>\n",
       "    <tr>\n",
       "      <th>Shimmer:APQ5</th>\n",
       "      <td>-0.070682</td>\n",
       "      <td>-0.009997</td>\n",
       "      <td>-0.101095</td>\n",
       "      <td>0.725561</td>\n",
       "      <td>0.648961</td>\n",
       "      <td>0.709927</td>\n",
       "      <td>0.786780</td>\n",
       "      <td>0.709907</td>\n",
       "      <td>0.982835</td>\n",
       "      <td>0.973751</td>\n",
       "      <td>...</td>\n",
       "      <td>0.960072</td>\n",
       "      <td>0.658080</td>\n",
       "      <td>-0.813753</td>\n",
       "      <td>0.351148</td>\n",
       "      <td>0.399903</td>\n",
       "      <td>0.213873</td>\n",
       "      <td>0.646809</td>\n",
       "      <td>0.457195</td>\n",
       "      <td>0.502174</td>\n",
       "      <td>0.702456</td>\n",
       "    </tr>\n",
       "    <tr>\n",
       "      <th>MDVP:APQ</th>\n",
       "      <td>-0.077774</td>\n",
       "      <td>0.004937</td>\n",
       "      <td>-0.107293</td>\n",
       "      <td>0.758255</td>\n",
       "      <td>0.648793</td>\n",
       "      <td>0.737455</td>\n",
       "      <td>0.804139</td>\n",
       "      <td>0.737439</td>\n",
       "      <td>0.950083</td>\n",
       "      <td>0.960977</td>\n",
       "      <td>...</td>\n",
       "      <td>0.896647</td>\n",
       "      <td>0.694019</td>\n",
       "      <td>-0.800407</td>\n",
       "      <td>0.364316</td>\n",
       "      <td>0.451379</td>\n",
       "      <td>0.157276</td>\n",
       "      <td>0.673158</td>\n",
       "      <td>0.502188</td>\n",
       "      <td>0.536869</td>\n",
       "      <td>0.721694</td>\n",
       "    </tr>\n",
       "    <tr>\n",
       "      <th>Shimmer:DDA</th>\n",
       "      <td>-0.094732</td>\n",
       "      <td>-0.003733</td>\n",
       "      <td>-0.150737</td>\n",
       "      <td>0.746635</td>\n",
       "      <td>0.697170</td>\n",
       "      <td>0.744919</td>\n",
       "      <td>0.763592</td>\n",
       "      <td>0.744901</td>\n",
       "      <td>0.987626</td>\n",
       "      <td>0.963202</td>\n",
       "      <td>...</td>\n",
       "      <td>1.000000</td>\n",
       "      <td>0.716215</td>\n",
       "      <td>-0.827130</td>\n",
       "      <td>0.347608</td>\n",
       "      <td>0.435237</td>\n",
       "      <td>0.151132</td>\n",
       "      <td>0.610971</td>\n",
       "      <td>0.402223</td>\n",
       "      <td>0.467261</td>\n",
       "      <td>0.645389</td>\n",
       "    </tr>\n",
       "    <tr>\n",
       "      <th>NHR</th>\n",
       "      <td>-0.021981</td>\n",
       "      <td>0.163766</td>\n",
       "      <td>-0.108670</td>\n",
       "      <td>0.906959</td>\n",
       "      <td>0.834972</td>\n",
       "      <td>0.919521</td>\n",
       "      <td>0.844604</td>\n",
       "      <td>0.919548</td>\n",
       "      <td>0.722194</td>\n",
       "      <td>0.744477</td>\n",
       "      <td>...</td>\n",
       "      <td>0.716215</td>\n",
       "      <td>1.000000</td>\n",
       "      <td>-0.714072</td>\n",
       "      <td>0.189429</td>\n",
       "      <td>0.370890</td>\n",
       "      <td>-0.131882</td>\n",
       "      <td>0.540865</td>\n",
       "      <td>0.318099</td>\n",
       "      <td>0.470949</td>\n",
       "      <td>0.552591</td>\n",
       "    </tr>\n",
       "    <tr>\n",
       "      <th>HNR</th>\n",
       "      <td>0.059144</td>\n",
       "      <td>-0.024893</td>\n",
       "      <td>0.210851</td>\n",
       "      <td>-0.728165</td>\n",
       "      <td>-0.656810</td>\n",
       "      <td>-0.721543</td>\n",
       "      <td>-0.731510</td>\n",
       "      <td>-0.721494</td>\n",
       "      <td>-0.835271</td>\n",
       "      <td>-0.827805</td>\n",
       "      <td>...</td>\n",
       "      <td>-0.827130</td>\n",
       "      <td>-0.714072</td>\n",
       "      <td>1.000000</td>\n",
       "      <td>-0.361515</td>\n",
       "      <td>-0.598736</td>\n",
       "      <td>-0.008665</td>\n",
       "      <td>-0.673210</td>\n",
       "      <td>-0.431564</td>\n",
       "      <td>-0.601401</td>\n",
       "      <td>-0.692876</td>\n",
       "    </tr>\n",
       "    <tr>\n",
       "      <th>status</th>\n",
       "      <td>-0.383535</td>\n",
       "      <td>-0.166136</td>\n",
       "      <td>-0.380200</td>\n",
       "      <td>0.278220</td>\n",
       "      <td>0.338653</td>\n",
       "      <td>0.266668</td>\n",
       "      <td>0.288698</td>\n",
       "      <td>0.266646</td>\n",
       "      <td>0.367430</td>\n",
       "      <td>0.350697</td>\n",
       "      <td>...</td>\n",
       "      <td>0.347608</td>\n",
       "      <td>0.189429</td>\n",
       "      <td>-0.361515</td>\n",
       "      <td>1.000000</td>\n",
       "      <td>0.308567</td>\n",
       "      <td>0.231739</td>\n",
       "      <td>0.564838</td>\n",
       "      <td>0.454842</td>\n",
       "      <td>0.340232</td>\n",
       "      <td>0.531039</td>\n",
       "    </tr>\n",
       "    <tr>\n",
       "      <th>RPDE</th>\n",
       "      <td>-0.383894</td>\n",
       "      <td>-0.112404</td>\n",
       "      <td>-0.400143</td>\n",
       "      <td>0.360673</td>\n",
       "      <td>0.441839</td>\n",
       "      <td>0.342140</td>\n",
       "      <td>0.333274</td>\n",
       "      <td>0.342079</td>\n",
       "      <td>0.447424</td>\n",
       "      <td>0.410684</td>\n",
       "      <td>...</td>\n",
       "      <td>0.435237</td>\n",
       "      <td>0.370890</td>\n",
       "      <td>-0.598736</td>\n",
       "      <td>0.308567</td>\n",
       "      <td>1.000000</td>\n",
       "      <td>-0.110950</td>\n",
       "      <td>0.591117</td>\n",
       "      <td>0.479905</td>\n",
       "      <td>0.236931</td>\n",
       "      <td>0.545886</td>\n",
       "    </tr>\n",
       "    <tr>\n",
       "      <th>DFA</th>\n",
       "      <td>-0.446013</td>\n",
       "      <td>-0.343097</td>\n",
       "      <td>-0.050406</td>\n",
       "      <td>0.098572</td>\n",
       "      <td>0.175036</td>\n",
       "      <td>0.064083</td>\n",
       "      <td>0.196301</td>\n",
       "      <td>0.064026</td>\n",
       "      <td>0.159954</td>\n",
       "      <td>0.165157</td>\n",
       "      <td>...</td>\n",
       "      <td>0.151132</td>\n",
       "      <td>-0.131882</td>\n",
       "      <td>-0.008665</td>\n",
       "      <td>0.231739</td>\n",
       "      <td>-0.110950</td>\n",
       "      <td>1.000000</td>\n",
       "      <td>0.195668</td>\n",
       "      <td>0.166548</td>\n",
       "      <td>-0.165381</td>\n",
       "      <td>0.270445</td>\n",
       "    </tr>\n",
       "    <tr>\n",
       "      <th>spread1</th>\n",
       "      <td>-0.413738</td>\n",
       "      <td>-0.076658</td>\n",
       "      <td>-0.394857</td>\n",
       "      <td>0.693577</td>\n",
       "      <td>0.735779</td>\n",
       "      <td>0.648328</td>\n",
       "      <td>0.716489</td>\n",
       "      <td>0.648328</td>\n",
       "      <td>0.654734</td>\n",
       "      <td>0.652547</td>\n",
       "      <td>...</td>\n",
       "      <td>0.610971</td>\n",
       "      <td>0.540865</td>\n",
       "      <td>-0.673210</td>\n",
       "      <td>0.564838</td>\n",
       "      <td>0.591117</td>\n",
       "      <td>0.195668</td>\n",
       "      <td>1.000000</td>\n",
       "      <td>0.652358</td>\n",
       "      <td>0.495123</td>\n",
       "      <td>0.962435</td>\n",
       "    </tr>\n",
       "    <tr>\n",
       "      <th>spread2</th>\n",
       "      <td>-0.249450</td>\n",
       "      <td>-0.002954</td>\n",
       "      <td>-0.243829</td>\n",
       "      <td>0.385123</td>\n",
       "      <td>0.388543</td>\n",
       "      <td>0.324407</td>\n",
       "      <td>0.407605</td>\n",
       "      <td>0.324377</td>\n",
       "      <td>0.452025</td>\n",
       "      <td>0.454314</td>\n",
       "      <td>...</td>\n",
       "      <td>0.402223</td>\n",
       "      <td>0.318099</td>\n",
       "      <td>-0.431564</td>\n",
       "      <td>0.454842</td>\n",
       "      <td>0.479905</td>\n",
       "      <td>0.166548</td>\n",
       "      <td>0.652358</td>\n",
       "      <td>1.000000</td>\n",
       "      <td>0.523532</td>\n",
       "      <td>0.644711</td>\n",
       "    </tr>\n",
       "    <tr>\n",
       "      <th>D2</th>\n",
       "      <td>0.177980</td>\n",
       "      <td>0.176323</td>\n",
       "      <td>-0.100629</td>\n",
       "      <td>0.433434</td>\n",
       "      <td>0.310694</td>\n",
       "      <td>0.426605</td>\n",
       "      <td>0.412524</td>\n",
       "      <td>0.426556</td>\n",
       "      <td>0.507088</td>\n",
       "      <td>0.512233</td>\n",
       "      <td>...</td>\n",
       "      <td>0.467261</td>\n",
       "      <td>0.470949</td>\n",
       "      <td>-0.601401</td>\n",
       "      <td>0.340232</td>\n",
       "      <td>0.236931</td>\n",
       "      <td>-0.165381</td>\n",
       "      <td>0.495123</td>\n",
       "      <td>0.523532</td>\n",
       "      <td>1.000000</td>\n",
       "      <td>0.480585</td>\n",
       "    </tr>\n",
       "    <tr>\n",
       "      <th>PPE</th>\n",
       "      <td>-0.372356</td>\n",
       "      <td>-0.069543</td>\n",
       "      <td>-0.340071</td>\n",
       "      <td>0.721543</td>\n",
       "      <td>0.748162</td>\n",
       "      <td>0.670999</td>\n",
       "      <td>0.769647</td>\n",
       "      <td>0.671005</td>\n",
       "      <td>0.693771</td>\n",
       "      <td>0.695058</td>\n",
       "      <td>...</td>\n",
       "      <td>0.645389</td>\n",
       "      <td>0.552591</td>\n",
       "      <td>-0.692876</td>\n",
       "      <td>0.531039</td>\n",
       "      <td>0.545886</td>\n",
       "      <td>0.270445</td>\n",
       "      <td>0.962435</td>\n",
       "      <td>0.644711</td>\n",
       "      <td>0.480585</td>\n",
       "      <td>1.000000</td>\n",
       "    </tr>\n",
       "  </tbody>\n",
       "</table>\n",
       "<p>23 rows × 23 columns</p>\n",
       "</div>"
      ],
      "text/plain": [
       "                  MDVP:Fo(Hz)  MDVP:Fhi(Hz)  MDVP:Flo(Hz)  MDVP:Jitter(%)  \\\n",
       "MDVP:Fo(Hz)          1.000000      0.400985      0.596546       -0.118003   \n",
       "MDVP:Fhi(Hz)         0.400985      1.000000      0.084951        0.102086   \n",
       "MDVP:Flo(Hz)         0.596546      0.084951      1.000000       -0.139919   \n",
       "MDVP:Jitter(%)      -0.118003      0.102086     -0.139919        1.000000   \n",
       "MDVP:Jitter(Abs)    -0.382027     -0.029198     -0.277815        0.935714   \n",
       "MDVP:RAP            -0.076194      0.097177     -0.100519        0.990276   \n",
       "MDVP:PPQ            -0.112165      0.091126     -0.095828        0.974256   \n",
       "Jitter:DDP          -0.076213      0.097150     -0.100488        0.990276   \n",
       "MDVP:Shimmer        -0.098374      0.002281     -0.144543        0.769063   \n",
       "MDVP:Shimmer(dB)    -0.073742      0.043465     -0.119089        0.804289   \n",
       "Shimmer:APQ3        -0.094717     -0.003743     -0.150747        0.746625   \n",
       "Shimmer:APQ5        -0.070682     -0.009997     -0.101095        0.725561   \n",
       "MDVP:APQ            -0.077774      0.004937     -0.107293        0.758255   \n",
       "Shimmer:DDA         -0.094732     -0.003733     -0.150737        0.746635   \n",
       "NHR                 -0.021981      0.163766     -0.108670        0.906959   \n",
       "HNR                  0.059144     -0.024893      0.210851       -0.728165   \n",
       "status              -0.383535     -0.166136     -0.380200        0.278220   \n",
       "RPDE                -0.383894     -0.112404     -0.400143        0.360673   \n",
       "DFA                 -0.446013     -0.343097     -0.050406        0.098572   \n",
       "spread1             -0.413738     -0.076658     -0.394857        0.693577   \n",
       "spread2             -0.249450     -0.002954     -0.243829        0.385123   \n",
       "D2                   0.177980      0.176323     -0.100629        0.433434   \n",
       "PPE                 -0.372356     -0.069543     -0.340071        0.721543   \n",
       "\n",
       "                  MDVP:Jitter(Abs)  MDVP:RAP  MDVP:PPQ  Jitter:DDP  \\\n",
       "MDVP:Fo(Hz)              -0.382027 -0.076194 -0.112165   -0.076213   \n",
       "MDVP:Fhi(Hz)             -0.029198  0.097177  0.091126    0.097150   \n",
       "MDVP:Flo(Hz)             -0.277815 -0.100519 -0.095828   -0.100488   \n",
       "MDVP:Jitter(%)            0.935714  0.990276  0.974256    0.990276   \n",
       "MDVP:Jitter(Abs)          1.000000  0.922911  0.897778    0.922913   \n",
       "MDVP:RAP                  0.922911  1.000000  0.957317    1.000000   \n",
       "MDVP:PPQ                  0.897778  0.957317  1.000000    0.957319   \n",
       "Jitter:DDP                0.922913  1.000000  0.957319    1.000000   \n",
       "MDVP:Shimmer              0.703322  0.759581  0.797826    0.759555   \n",
       "MDVP:Shimmer(dB)          0.716601  0.790652  0.839239    0.790621   \n",
       "Shimmer:APQ3              0.697153  0.744912  0.763580    0.744894   \n",
       "Shimmer:APQ5              0.648961  0.709927  0.786780    0.709907   \n",
       "MDVP:APQ                  0.648793  0.737455  0.804139    0.737439   \n",
       "Shimmer:DDA               0.697170  0.744919  0.763592    0.744901   \n",
       "NHR                       0.834972  0.919521  0.844604    0.919548   \n",
       "HNR                      -0.656810 -0.721543 -0.731510   -0.721494   \n",
       "status                    0.338653  0.266668  0.288698    0.266646   \n",
       "RPDE                      0.441839  0.342140  0.333274    0.342079   \n",
       "DFA                       0.175036  0.064083  0.196301    0.064026   \n",
       "spread1                   0.735779  0.648328  0.716489    0.648328   \n",
       "spread2                   0.388543  0.324407  0.407605    0.324377   \n",
       "D2                        0.310694  0.426605  0.412524    0.426556   \n",
       "PPE                       0.748162  0.670999  0.769647    0.671005   \n",
       "\n",
       "                  MDVP:Shimmer  MDVP:Shimmer(dB)  ...  Shimmer:DDA       NHR  \\\n",
       "MDVP:Fo(Hz)          -0.098374         -0.073742  ...    -0.094732 -0.021981   \n",
       "MDVP:Fhi(Hz)          0.002281          0.043465  ...    -0.003733  0.163766   \n",
       "MDVP:Flo(Hz)         -0.144543         -0.119089  ...    -0.150737 -0.108670   \n",
       "MDVP:Jitter(%)        0.769063          0.804289  ...     0.746635  0.906959   \n",
       "MDVP:Jitter(Abs)      0.703322          0.716601  ...     0.697170  0.834972   \n",
       "MDVP:RAP              0.759581          0.790652  ...     0.744919  0.919521   \n",
       "MDVP:PPQ              0.797826          0.839239  ...     0.763592  0.844604   \n",
       "Jitter:DDP            0.759555          0.790621  ...     0.744901  0.919548   \n",
       "MDVP:Shimmer          1.000000          0.987258  ...     0.987626  0.722194   \n",
       "MDVP:Shimmer(dB)      0.987258          1.000000  ...     0.963202  0.744477   \n",
       "Shimmer:APQ3          0.987625          0.963198  ...     1.000000  0.716207   \n",
       "Shimmer:APQ5          0.982835          0.973751  ...     0.960072  0.658080   \n",
       "MDVP:APQ              0.950083          0.960977  ...     0.896647  0.694019   \n",
       "Shimmer:DDA           0.987626          0.963202  ...     1.000000  0.716215   \n",
       "NHR                   0.722194          0.744477  ...     0.716215  1.000000   \n",
       "HNR                  -0.835271         -0.827805  ...    -0.827130 -0.714072   \n",
       "status                0.367430          0.350697  ...     0.347608  0.189429   \n",
       "RPDE                  0.447424          0.410684  ...     0.435237  0.370890   \n",
       "DFA                   0.159954          0.165157  ...     0.151132 -0.131882   \n",
       "spread1               0.654734          0.652547  ...     0.610971  0.540865   \n",
       "spread2               0.452025          0.454314  ...     0.402223  0.318099   \n",
       "D2                    0.507088          0.512233  ...     0.467261  0.470949   \n",
       "PPE                   0.693771          0.695058  ...     0.645389  0.552591   \n",
       "\n",
       "                       HNR    status      RPDE       DFA   spread1   spread2  \\\n",
       "MDVP:Fo(Hz)       0.059144 -0.383535 -0.383894 -0.446013 -0.413738 -0.249450   \n",
       "MDVP:Fhi(Hz)     -0.024893 -0.166136 -0.112404 -0.343097 -0.076658 -0.002954   \n",
       "MDVP:Flo(Hz)      0.210851 -0.380200 -0.400143 -0.050406 -0.394857 -0.243829   \n",
       "MDVP:Jitter(%)   -0.728165  0.278220  0.360673  0.098572  0.693577  0.385123   \n",
       "MDVP:Jitter(Abs) -0.656810  0.338653  0.441839  0.175036  0.735779  0.388543   \n",
       "MDVP:RAP         -0.721543  0.266668  0.342140  0.064083  0.648328  0.324407   \n",
       "MDVP:PPQ         -0.731510  0.288698  0.333274  0.196301  0.716489  0.407605   \n",
       "Jitter:DDP       -0.721494  0.266646  0.342079  0.064026  0.648328  0.324377   \n",
       "MDVP:Shimmer     -0.835271  0.367430  0.447424  0.159954  0.654734  0.452025   \n",
       "MDVP:Shimmer(dB) -0.827805  0.350697  0.410684  0.165157  0.652547  0.454314   \n",
       "Shimmer:APQ3     -0.827123  0.347617  0.435242  0.151124  0.610967  0.402243   \n",
       "Shimmer:APQ5     -0.813753  0.351148  0.399903  0.213873  0.646809  0.457195   \n",
       "MDVP:APQ         -0.800407  0.364316  0.451379  0.157276  0.673158  0.502188   \n",
       "Shimmer:DDA      -0.827130  0.347608  0.435237  0.151132  0.610971  0.402223   \n",
       "NHR              -0.714072  0.189429  0.370890 -0.131882  0.540865  0.318099   \n",
       "HNR               1.000000 -0.361515 -0.598736 -0.008665 -0.673210 -0.431564   \n",
       "status           -0.361515  1.000000  0.308567  0.231739  0.564838  0.454842   \n",
       "RPDE             -0.598736  0.308567  1.000000 -0.110950  0.591117  0.479905   \n",
       "DFA              -0.008665  0.231739 -0.110950  1.000000  0.195668  0.166548   \n",
       "spread1          -0.673210  0.564838  0.591117  0.195668  1.000000  0.652358   \n",
       "spread2          -0.431564  0.454842  0.479905  0.166548  0.652358  1.000000   \n",
       "D2               -0.601401  0.340232  0.236931 -0.165381  0.495123  0.523532   \n",
       "PPE              -0.692876  0.531039  0.545886  0.270445  0.962435  0.644711   \n",
       "\n",
       "                        D2       PPE  \n",
       "MDVP:Fo(Hz)       0.177980 -0.372356  \n",
       "MDVP:Fhi(Hz)      0.176323 -0.069543  \n",
       "MDVP:Flo(Hz)     -0.100629 -0.340071  \n",
       "MDVP:Jitter(%)    0.433434  0.721543  \n",
       "MDVP:Jitter(Abs)  0.310694  0.748162  \n",
       "MDVP:RAP          0.426605  0.670999  \n",
       "MDVP:PPQ          0.412524  0.769647  \n",
       "Jitter:DDP        0.426556  0.671005  \n",
       "MDVP:Shimmer      0.507088  0.693771  \n",
       "MDVP:Shimmer(dB)  0.512233  0.695058  \n",
       "Shimmer:APQ3      0.467265  0.645377  \n",
       "Shimmer:APQ5      0.502174  0.702456  \n",
       "MDVP:APQ          0.536869  0.721694  \n",
       "Shimmer:DDA       0.467261  0.645389  \n",
       "NHR               0.470949  0.552591  \n",
       "HNR              -0.601401 -0.692876  \n",
       "status            0.340232  0.531039  \n",
       "RPDE              0.236931  0.545886  \n",
       "DFA              -0.165381  0.270445  \n",
       "spread1           0.495123  0.962435  \n",
       "spread2           0.523532  0.644711  \n",
       "D2                1.000000  0.480585  \n",
       "PPE               0.480585  1.000000  \n",
       "\n",
       "[23 rows x 23 columns]"
      ]
     },
     "execution_count": 381,
     "metadata": {},
     "output_type": "execute_result"
    }
   ],
   "source": [
    "correlation_matrix = df.corr()\n",
    "correlation_matrix"
   ]
  },
  {
   "cell_type": "code",
   "execution_count": 384,
   "id": "b23d3ffa",
   "metadata": {},
   "outputs": [
    {
     "data": {
      "image/png": "[encoded data removed]",
      "text/plain": [
       "<Figure size 1500x1200 with 2 Axes>"
      ]
     },
     "metadata": {},
     "output_type": "display_data"
    }
   ],
   "source": [
    "plt.figure(figsize=(15, 12))  \n",
    "sns.heatmap(correlation_matrix,annot=True)\n",
    "plt.show()"
   ]
  },
  {
   "cell_type": "markdown",
   "id": "6817a08d",
   "metadata": {},
   "source": [
    "- Attributes which look normally distributed are HNR,RPDE,DFA spread1,Spread2,D2\n",
    "- Some of the attributes (as all MDVP based) look like they may have an exponential distribution\n",
    "- The diagonal of the above matirx shows the auto-correlation of the variables. It is always 1. \n",
    "- We can observe that the correlation very low in most cases\n",
    "- Among certain attributes, the  'status' is greatly correlated \n",
    "- Correlations can vary from -1 to +1. Closer to +1 means strong positive correlation and close -1 means strong negative correlation. \n",
    "- Closer to 0 means not very strongly correlated. variables with strong correl"
   ]
  },
  {
   "cell_type": "code",
   "execution_count": 298,
   "id": "b00b0131",
   "metadata": {},
   "outputs": [],
   "source": [
    "# seperating label column from the dataset\n",
    "df_feat=df.drop(labels=['name','status'],axis=1)\n",
    "df_label=df['status']"
   ]
  },
  {
   "cell_type": "code",
   "execution_count": 385,
   "id": "b63101e1",
   "metadata": {},
   "outputs": [
    {
     "data": {
      "text/plain": [
       "1    147\n",
       "0     48\n",
       "Name: status, dtype: int64"
      ]
     },
     "execution_count": 385,
     "metadata": {},
     "output_type": "execute_result"
    }
   ],
   "source": [
    "df_label.value_counts()"
   ]
  },
  {
   "cell_type": "markdown",
   "id": "ad30728d",
   "metadata": {},
   "source": [
    "- The health status of the subjects is denoted in the 'status' column.\n",
    "- '1' indicates Parkinson's disease, while '0' represents a healthy status."
   ]
  },
  {
   "cell_type": "code",
   "execution_count": 299,
   "id": "f0ccd732",
   "metadata": {},
   "outputs": [
    {
     "data": {
      "text/html": [
       "<div>\n",
       "<style scoped>\n",
       "    .dataframe tbody tr th:only-of-type {\n",
       "        vertical-align: middle;\n",
       "    }\n",
       "\n",
       "    .dataframe tbody tr th {\n",
       "        vertical-align: top;\n",
       "    }\n",
       "\n",
       "    .dataframe thead th {\n",
       "        text-align: right;\n",
       "    }\n",
       "</style>\n",
       "<table border=\"1\" class=\"dataframe\">\n",
       "  <thead>\n",
       "    <tr style=\"text-align: right;\">\n",
       "      <th></th>\n",
       "      <th>MDVP:Fo(Hz)</th>\n",
       "      <th>MDVP:Fhi(Hz)</th>\n",
       "      <th>MDVP:Flo(Hz)</th>\n",
       "      <th>MDVP:Jitter(%)</th>\n",
       "      <th>MDVP:Jitter(Abs)</th>\n",
       "      <th>MDVP:RAP</th>\n",
       "      <th>MDVP:PPQ</th>\n",
       "      <th>Jitter:DDP</th>\n",
       "      <th>MDVP:Shimmer</th>\n",
       "      <th>MDVP:Shimmer(dB)</th>\n",
       "      <th>...</th>\n",
       "      <th>MDVP:APQ</th>\n",
       "      <th>Shimmer:DDA</th>\n",
       "      <th>NHR</th>\n",
       "      <th>HNR</th>\n",
       "      <th>RPDE</th>\n",
       "      <th>DFA</th>\n",
       "      <th>spread1</th>\n",
       "      <th>spread2</th>\n",
       "      <th>D2</th>\n",
       "      <th>PPE</th>\n",
       "    </tr>\n",
       "  </thead>\n",
       "  <tbody>\n",
       "    <tr>\n",
       "      <th>0</th>\n",
       "      <td>119.992</td>\n",
       "      <td>157.302</td>\n",
       "      <td>74.997</td>\n",
       "      <td>0.00784</td>\n",
       "      <td>0.00007</td>\n",
       "      <td>0.00370</td>\n",
       "      <td>0.00554</td>\n",
       "      <td>0.01109</td>\n",
       "      <td>0.04374</td>\n",
       "      <td>0.426</td>\n",
       "      <td>...</td>\n",
       "      <td>0.02971</td>\n",
       "      <td>0.06545</td>\n",
       "      <td>0.02211</td>\n",
       "      <td>21.033</td>\n",
       "      <td>0.414783</td>\n",
       "      <td>0.815285</td>\n",
       "      <td>-4.813031</td>\n",
       "      <td>0.266482</td>\n",
       "      <td>2.301442</td>\n",
       "      <td>0.284654</td>\n",
       "    </tr>\n",
       "    <tr>\n",
       "      <th>1</th>\n",
       "      <td>122.400</td>\n",
       "      <td>148.650</td>\n",
       "      <td>113.819</td>\n",
       "      <td>0.00968</td>\n",
       "      <td>0.00008</td>\n",
       "      <td>0.00465</td>\n",
       "      <td>0.00696</td>\n",
       "      <td>0.01394</td>\n",
       "      <td>0.06134</td>\n",
       "      <td>0.626</td>\n",
       "      <td>...</td>\n",
       "      <td>0.04368</td>\n",
       "      <td>0.09403</td>\n",
       "      <td>0.01929</td>\n",
       "      <td>19.085</td>\n",
       "      <td>0.458359</td>\n",
       "      <td>0.819521</td>\n",
       "      <td>-4.075192</td>\n",
       "      <td>0.335590</td>\n",
       "      <td>2.486855</td>\n",
       "      <td>0.368674</td>\n",
       "    </tr>\n",
       "    <tr>\n",
       "      <th>2</th>\n",
       "      <td>116.682</td>\n",
       "      <td>131.111</td>\n",
       "      <td>111.555</td>\n",
       "      <td>0.01050</td>\n",
       "      <td>0.00009</td>\n",
       "      <td>0.00544</td>\n",
       "      <td>0.00781</td>\n",
       "      <td>0.01633</td>\n",
       "      <td>0.05233</td>\n",
       "      <td>0.482</td>\n",
       "      <td>...</td>\n",
       "      <td>0.03590</td>\n",
       "      <td>0.08270</td>\n",
       "      <td>0.01309</td>\n",
       "      <td>20.651</td>\n",
       "      <td>0.429895</td>\n",
       "      <td>0.825288</td>\n",
       "      <td>-4.443179</td>\n",
       "      <td>0.311173</td>\n",
       "      <td>2.342259</td>\n",
       "      <td>0.332634</td>\n",
       "    </tr>\n",
       "    <tr>\n",
       "      <th>3</th>\n",
       "      <td>116.676</td>\n",
       "      <td>137.871</td>\n",
       "      <td>111.366</td>\n",
       "      <td>0.00997</td>\n",
       "      <td>0.00009</td>\n",
       "      <td>0.00502</td>\n",
       "      <td>0.00698</td>\n",
       "      <td>0.01505</td>\n",
       "      <td>0.05492</td>\n",
       "      <td>0.517</td>\n",
       "      <td>...</td>\n",
       "      <td>0.03772</td>\n",
       "      <td>0.08771</td>\n",
       "      <td>0.01353</td>\n",
       "      <td>20.644</td>\n",
       "      <td>0.434969</td>\n",
       "      <td>0.819235</td>\n",
       "      <td>-4.117501</td>\n",
       "      <td>0.334147</td>\n",
       "      <td>2.405554</td>\n",
       "      <td>0.368975</td>\n",
       "    </tr>\n",
       "    <tr>\n",
       "      <th>4</th>\n",
       "      <td>116.014</td>\n",
       "      <td>141.781</td>\n",
       "      <td>110.655</td>\n",
       "      <td>0.01284</td>\n",
       "      <td>0.00011</td>\n",
       "      <td>0.00655</td>\n",
       "      <td>0.00908</td>\n",
       "      <td>0.01966</td>\n",
       "      <td>0.06425</td>\n",
       "      <td>0.584</td>\n",
       "      <td>...</td>\n",
       "      <td>0.04465</td>\n",
       "      <td>0.10470</td>\n",
       "      <td>0.01767</td>\n",
       "      <td>19.649</td>\n",
       "      <td>0.417356</td>\n",
       "      <td>0.823484</td>\n",
       "      <td>-3.747787</td>\n",
       "      <td>0.234513</td>\n",
       "      <td>2.332180</td>\n",
       "      <td>0.410335</td>\n",
       "    </tr>\n",
       "  </tbody>\n",
       "</table>\n",
       "<p>5 rows × 22 columns</p>\n",
       "</div>"
      ],
      "text/plain": [
       "   MDVP:Fo(Hz)  MDVP:Fhi(Hz)  MDVP:Flo(Hz)  MDVP:Jitter(%)  MDVP:Jitter(Abs)  \\\n",
       "0      119.992       157.302        74.997         0.00784           0.00007   \n",
       "1      122.400       148.650       113.819         0.00968           0.00008   \n",
       "2      116.682       131.111       111.555         0.01050           0.00009   \n",
       "3      116.676       137.871       111.366         0.00997           0.00009   \n",
       "4      116.014       141.781       110.655         0.01284           0.00011   \n",
       "\n",
       "   MDVP:RAP  MDVP:PPQ  Jitter:DDP  MDVP:Shimmer  MDVP:Shimmer(dB)  ...  \\\n",
       "0   0.00370   0.00554     0.01109       0.04374             0.426  ...   \n",
       "1   0.00465   0.00696     0.01394       0.06134             0.626  ...   \n",
       "2   0.00544   0.00781     0.01633       0.05233             0.482  ...   \n",
       "3   0.00502   0.00698     0.01505       0.05492             0.517  ...   \n",
       "4   0.00655   0.00908     0.01966       0.06425             0.584  ...   \n",
       "\n",
       "   MDVP:APQ  Shimmer:DDA      NHR     HNR      RPDE       DFA   spread1  \\\n",
       "0   0.02971      0.06545  0.02211  21.033  0.414783  0.815285 -4.813031   \n",
       "1   0.04368      0.09403  0.01929  19.085  0.458359  0.819521 -4.075192   \n",
       "2   0.03590      0.08270  0.01309  20.651  0.429895  0.825288 -4.443179   \n",
       "3   0.03772      0.08771  0.01353  20.644  0.434969  0.819235 -4.117501   \n",
       "4   0.04465      0.10470  0.01767  19.649  0.417356  0.823484 -3.747787   \n",
       "\n",
       "    spread2        D2       PPE  \n",
       "0  0.266482  2.301442  0.284654  \n",
       "1  0.335590  2.486855  0.368674  \n",
       "2  0.311173  2.342259  0.332634  \n",
       "3  0.334147  2.405554  0.368975  \n",
       "4  0.234513  2.332180  0.410335  \n",
       "\n",
       "[5 rows x 22 columns]"
      ]
     },
     "execution_count": 299,
     "metadata": {},
     "output_type": "execute_result"
    }
   ],
   "source": [
    "df_feat.head()"
   ]
  },
  {
   "cell_type": "code",
   "execution_count": 300,
   "id": "6870958c",
   "metadata": {},
   "outputs": [
    {
     "data": {
      "text/plain": [
       "0    1\n",
       "1    1\n",
       "2    1\n",
       "3    1\n",
       "4    1\n",
       "Name: status, dtype: int64"
      ]
     },
     "execution_count": 300,
     "metadata": {},
     "output_type": "execute_result"
    }
   ],
   "source": [
    "df_label.head()"
   ]
  },
  {
   "cell_type": "markdown",
   "id": "63568142",
   "metadata": {},
   "source": [
    "### Feature scaling"
   ]
  },
  {
   "cell_type": "code",
   "execution_count": 301,
   "id": "bcc5c327",
   "metadata": {},
   "outputs": [],
   "source": [
    "scaler=MinMaxScaler()\n",
    "df_scaled=scaler.fit_transform(df_feat)"
   ]
  },
  {
   "cell_type": "code",
   "execution_count": 302,
   "id": "44773bf4",
   "metadata": {},
   "outputs": [],
   "source": [
    "X=np.array(df_scaled)\n",
    "y=np.array(df_label)"
   ]
  },
  {
   "cell_type": "code",
   "execution_count": 303,
   "id": "d765a72f",
   "metadata": {},
   "outputs": [],
   "source": [
    "X_train, X_test, y_train, y_test = train_test_split(X, y, test_size=0.3, random_state=1)"
   ]
  },
  {
   "cell_type": "markdown",
   "id": "1687bf2b",
   "metadata": {},
   "source": [
    "- Split the dataset into training and test set in the ratio of 70:30 (Training:Test)"
   ]
  },
  {
   "cell_type": "markdown",
   "id": "3d73dcba",
   "metadata": {},
   "source": [
    "### Training with different Classification algorithms"
   ]
  },
  {
   "cell_type": "markdown",
   "id": "62a421e7",
   "metadata": {},
   "source": [
    "### Logistic Regression"
   ]
  },
  {
   "cell_type": "code",
   "execution_count": 304,
   "id": "c3987648",
   "metadata": {},
   "outputs": [
    {
     "data": {
      "text/html": [
       "<style>#sk-container-id-25 {color: black;background-color: white;}#sk-container-id-25 pre{padding: 0;}#sk-container-id-25 div.sk-toggleable {background-color: white;}#sk-container-id-25 label.sk-toggleable__label {cursor: pointer;display: block;width: 100%;margin-bottom: 0;padding: 0.3em;box-sizing: border-box;text-align: center;}#sk-container-id-25 label.sk-toggleable__label-arrow:before {content: \"▸\";float: left;margin-right: 0.25em;color: #696969;}#sk-container-id-25 label.sk-toggleable__label-arrow:hover:before {color: black;}#sk-container-id-25 div.sk-estimator:hover label.sk-toggleable__label-arrow:before {color: black;}#sk-container-id-25 div.sk-toggleable__content {max-height: 0;max-width: 0;overflow: hidden;text-align: left;background-color: #f0f8ff;}#sk-container-id-25 div.sk-toggleable__content pre {margin: 0.2em;color: black;border-radius: 0.25em;background-color: #f0f8ff;}#sk-container-id-25 input.sk-toggleable__control:checked~div.sk-toggleable__content {max-height: 200px;max-width: 100%;overflow: auto;}#sk-container-id-25 input.sk-toggleable__control:checked~label.sk-toggleable__label-arrow:before {content: \"▾\";}#sk-container-id-25 div.sk-estimator input.sk-toggleable__control:checked~label.sk-toggleable__label {background-color: #d4ebff;}#sk-container-id-25 div.sk-label input.sk-toggleable__control:checked~label.sk-toggleable__label {background-color: #d4ebff;}#sk-container-id-25 input.sk-hidden--visually {border: 0;clip: rect(1px 1px 1px 1px);clip: rect(1px, 1px, 1px, 1px);height: 1px;margin: -1px;overflow: hidden;padding: 0;position: absolute;width: 1px;}#sk-container-id-25 div.sk-estimator {font-family: monospace;background-color: #f0f8ff;border: 1px dotted black;border-radius: 0.25em;box-sizing: border-box;margin-bottom: 0.5em;}#sk-container-id-25 div.sk-estimator:hover {background-color: #d4ebff;}#sk-container-id-25 div.sk-parallel-item::after {content: \"\";width: 100%;border-bottom: 1px solid gray;flex-grow: 1;}#sk-container-id-25 div.sk-label:hover label.sk-toggleable__label {background-color: #d4ebff;}#sk-container-id-25 div.sk-serial::before {content: \"\";position: absolute;border-left: 1px solid gray;box-sizing: border-box;top: 0;bottom: 0;left: 50%;z-index: 0;}#sk-container-id-25 div.sk-serial {display: flex;flex-direction: column;align-items: center;background-color: white;padding-right: 0.2em;padding-left: 0.2em;position: relative;}#sk-container-id-25 div.sk-item {position: relative;z-index: 1;}#sk-container-id-25 div.sk-parallel {display: flex;align-items: stretch;justify-content: center;background-color: white;position: relative;}#sk-container-id-25 div.sk-item::before, #sk-container-id-25 div.sk-parallel-item::before {content: \"\";position: absolute;border-left: 1px solid gray;box-sizing: border-box;top: 0;bottom: 0;left: 50%;z-index: -1;}#sk-container-id-25 div.sk-parallel-item {display: flex;flex-direction: column;z-index: 1;position: relative;background-color: white;}#sk-container-id-25 div.sk-parallel-item:first-child::after {align-self: flex-end;width: 50%;}#sk-container-id-25 div.sk-parallel-item:last-child::after {align-self: flex-start;width: 50%;}#sk-container-id-25 div.sk-parallel-item:only-child::after {width: 0;}#sk-container-id-25 div.sk-dashed-wrapped {border: 1px dashed gray;margin: 0 0.4em 0.5em 0.4em;box-sizing: border-box;padding-bottom: 0.4em;background-color: white;}#sk-container-id-25 div.sk-label label {font-family: monospace;font-weight: bold;display: inline-block;line-height: 1.2em;}#sk-container-id-25 div.sk-label-container {text-align: center;}#sk-container-id-25 div.sk-container {/* jupyter's `normalize.less` sets `[hidden] { display: none; }` but bootstrap.min.css set `[hidden] { display: none !important; }` so we also need the `!important` here to be able to override the default hidden behavior on the sphinx rendered scikit-learn.org. See: https://github.com/scikit-learn/scikit-learn/issues/21755 */display: inline-block !important;position: relative;}#sk-container-id-25 div.sk-text-repr-fallback {display: none;}</style><div id=\"sk-container-id-25\" class=\"sk-top-container\"><div class=\"sk-text-repr-fallback\"><pre>LogisticRegression(random_state=0)</pre><b>In a Jupyter environment, please rerun this cell to show the HTML representation or trust the notebook. <br />On GitHub, the HTML representation is unable to render, please try loading this page with nbviewer.org.</b></div><div class=\"sk-container\" hidden><div class=\"sk-item\"><div class=\"sk-estimator sk-toggleable\"><input class=\"sk-toggleable__control sk-hidden--visually\" id=\"sk-estimator-id-29\" type=\"checkbox\" checked><label for=\"sk-estimator-id-29\" class=\"sk-toggleable__label sk-toggleable__label-arrow\">LogisticRegression</label><div class=\"sk-toggleable__content\"><pre>LogisticRegression(random_state=0)</pre></div></div></div></div></div>"
      ],
      "text/plain": [
       "LogisticRegression(random_state=0)"
      ]
     },
     "execution_count": 304,
     "metadata": {},
     "output_type": "execute_result"
    }
   ],
   "source": [
    "from sklearn.linear_model import LogisticRegression\n",
    "log_classifier = LogisticRegression(random_state=0)\n",
    "log_classifier.fit(X_train, y_train)"
   ]
  },
  {
   "cell_type": "code",
   "execution_count": 305,
   "id": "db4bde87",
   "metadata": {},
   "outputs": [
    {
     "data": {
      "text/plain": [
       "array([1, 1, 1, 1, 1, 1, 1, 1, 1, 1, 1, 0, 1, 1, 1, 0, 1, 1, 1, 1, 0, 1,\n",
       "       1, 1, 1, 1, 1, 1, 1, 0, 1, 1, 1, 1, 1, 1, 0, 1, 1, 1, 1, 1, 1, 0,\n",
       "       1, 1, 1, 1, 1, 1, 0, 1, 1, 1, 1, 1, 1, 1, 1], dtype=int64)"
      ]
     },
     "execution_count": 305,
     "metadata": {},
     "output_type": "execute_result"
    }
   ],
   "source": [
    "log_pred = log_classifier.predict(X_test)\n",
    "log_pred"
   ]
  },
  {
   "cell_type": "code",
   "execution_count": 306,
   "id": "e514aa7d",
   "metadata": {},
   "outputs": [
    {
     "data": {
      "text/plain": [
       "0.7966101694915254"
      ]
     },
     "execution_count": 306,
     "metadata": {},
     "output_type": "execute_result"
    }
   ],
   "source": [
    "log_accuracy = accuracy_score(y_test,log_pred)\n",
    "log_accuracy"
   ]
  },
  {
   "cell_type": "code",
   "execution_count": 307,
   "id": "4b5715b4",
   "metadata": {},
   "outputs": [
    {
     "name": "stdout",
     "output_type": "stream",
     "text": [
      "              precision    recall  f1-score   support\n",
      "\n",
      "           0       1.00      0.37      0.54        19\n",
      "           1       0.77      1.00      0.87        40\n",
      "\n",
      "    accuracy                           0.80        59\n",
      "   macro avg       0.88      0.68      0.70        59\n",
      "weighted avg       0.84      0.80      0.76        59\n",
      "\n"
     ]
    }
   ],
   "source": [
    "log_report = classification_report(y_test,log_pred)\n",
    "print(log_report)"
   ]
  },
  {
   "cell_type": "code",
   "execution_count": 308,
   "id": "369ca9e9",
   "metadata": {},
   "outputs": [
    {
     "data": {
      "text/plain": [
       "array([[ 7, 12],\n",
       "       [ 0, 40]], dtype=int64)"
      ]
     },
     "execution_count": 308,
     "metadata": {},
     "output_type": "execute_result"
    }
   ],
   "source": [
    "log_cm = confusion_matrix(y_test,log_pred)\n",
    "log_cm"
   ]
  },
  {
   "cell_type": "markdown",
   "id": "d620d21c",
   "metadata": {},
   "source": [
    "Model Scoring\n",
    "1. Accuracy :: 80%\n",
    "\n",
    "2. Re-call :: 100%\n",
    "\n",
    "3. Precision :: 77%\n",
    "\n",
    "4. F1-Score :: 87%"
   ]
  },
  {
   "cell_type": "markdown",
   "id": "c1fbf1f1",
   "metadata": {},
   "source": [
    "### KNN "
   ]
  },
  {
   "cell_type": "code",
   "execution_count": 309,
   "id": "6cd09f4b",
   "metadata": {},
   "outputs": [],
   "source": [
    "from sklearn.neighbors import KNeighborsClassifier\n",
    "from sklearn.metrics import f1_score"
   ]
  },
  {
   "cell_type": "code",
   "execution_count": 310,
   "id": "8639a149",
   "metadata": {},
   "outputs": [],
   "source": [
    "myList = list(range(3,40,2))\n",
    "ac_scores = []\n",
    "\n",
    "for k in myList:\n",
    "    knn = KNeighborsClassifier(n_neighbors=k)\n",
    "    knn.fit(X_train, y_train)\n",
    "    knn_pred = knn.predict(X_test)\n",
    "    scores = f1_score(y_test, y_pred)\n",
    "    ac_scores.append(scores)"
   ]
  },
  {
   "cell_type": "code",
   "execution_count": 311,
   "id": "4fa5af38",
   "metadata": {},
   "outputs": [
    {
     "name": "stdout",
     "output_type": "stream",
     "text": [
      "The optimal number of neighbors is 3\n"
     ]
    }
   ],
   "source": [
    "MSE = [1 - x for x in ac_scores]\n",
    "\n",
    "optimal_k = myList[MSE.index(min(MSE))]\n",
    "print(\"The optimal number of neighbors is %d\" % optimal_k)"
   ]
  },
  {
   "cell_type": "code",
   "execution_count": 312,
   "id": "8f102ca2",
   "metadata": {},
   "outputs": [
    {
     "data": {
      "text/html": [
       "<style>#sk-container-id-26 {color: black;background-color: white;}#sk-container-id-26 pre{padding: 0;}#sk-container-id-26 div.sk-toggleable {background-color: white;}#sk-container-id-26 label.sk-toggleable__label {cursor: pointer;display: block;width: 100%;margin-bottom: 0;padding: 0.3em;box-sizing: border-box;text-align: center;}#sk-container-id-26 label.sk-toggleable__label-arrow:before {content: \"▸\";float: left;margin-right: 0.25em;color: #696969;}#sk-container-id-26 label.sk-toggleable__label-arrow:hover:before {color: black;}#sk-container-id-26 div.sk-estimator:hover label.sk-toggleable__label-arrow:before {color: black;}#sk-container-id-26 div.sk-toggleable__content {max-height: 0;max-width: 0;overflow: hidden;text-align: left;background-color: #f0f8ff;}#sk-container-id-26 div.sk-toggleable__content pre {margin: 0.2em;color: black;border-radius: 0.25em;background-color: #f0f8ff;}#sk-container-id-26 input.sk-toggleable__control:checked~div.sk-toggleable__content {max-height: 200px;max-width: 100%;overflow: auto;}#sk-container-id-26 input.sk-toggleable__control:checked~label.sk-toggleable__label-arrow:before {content: \"▾\";}#sk-container-id-26 div.sk-estimator input.sk-toggleable__control:checked~label.sk-toggleable__label {background-color: #d4ebff;}#sk-container-id-26 div.sk-label input.sk-toggleable__control:checked~label.sk-toggleable__label {background-color: #d4ebff;}#sk-container-id-26 input.sk-hidden--visually {border: 0;clip: rect(1px 1px 1px 1px);clip: rect(1px, 1px, 1px, 1px);height: 1px;margin: -1px;overflow: hidden;padding: 0;position: absolute;width: 1px;}#sk-container-id-26 div.sk-estimator {font-family: monospace;background-color: #f0f8ff;border: 1px dotted black;border-radius: 0.25em;box-sizing: border-box;margin-bottom: 0.5em;}#sk-container-id-26 div.sk-estimator:hover {background-color: #d4ebff;}#sk-container-id-26 div.sk-parallel-item::after {content: \"\";width: 100%;border-bottom: 1px solid gray;flex-grow: 1;}#sk-container-id-26 div.sk-label:hover label.sk-toggleable__label {background-color: #d4ebff;}#sk-container-id-26 div.sk-serial::before {content: \"\";position: absolute;border-left: 1px solid gray;box-sizing: border-box;top: 0;bottom: 0;left: 50%;z-index: 0;}#sk-container-id-26 div.sk-serial {display: flex;flex-direction: column;align-items: center;background-color: white;padding-right: 0.2em;padding-left: 0.2em;position: relative;}#sk-container-id-26 div.sk-item {position: relative;z-index: 1;}#sk-container-id-26 div.sk-parallel {display: flex;align-items: stretch;justify-content: center;background-color: white;position: relative;}#sk-container-id-26 div.sk-item::before, #sk-container-id-26 div.sk-parallel-item::before {content: \"\";position: absolute;border-left: 1px solid gray;box-sizing: border-box;top: 0;bottom: 0;left: 50%;z-index: -1;}#sk-container-id-26 div.sk-parallel-item {display: flex;flex-direction: column;z-index: 1;position: relative;background-color: white;}#sk-container-id-26 div.sk-parallel-item:first-child::after {align-self: flex-end;width: 50%;}#sk-container-id-26 div.sk-parallel-item:last-child::after {align-self: flex-start;width: 50%;}#sk-container-id-26 div.sk-parallel-item:only-child::after {width: 0;}#sk-container-id-26 div.sk-dashed-wrapped {border: 1px dashed gray;margin: 0 0.4em 0.5em 0.4em;box-sizing: border-box;padding-bottom: 0.4em;background-color: white;}#sk-container-id-26 div.sk-label label {font-family: monospace;font-weight: bold;display: inline-block;line-height: 1.2em;}#sk-container-id-26 div.sk-label-container {text-align: center;}#sk-container-id-26 div.sk-container {/* jupyter's `normalize.less` sets `[hidden] { display: none; }` but bootstrap.min.css set `[hidden] { display: none !important; }` so we also need the `!important` here to be able to override the default hidden behavior on the sphinx rendered scikit-learn.org. See: https://github.com/scikit-learn/scikit-learn/issues/21755 */display: inline-block !important;position: relative;}#sk-container-id-26 div.sk-text-repr-fallback {display: none;}</style><div id=\"sk-container-id-26\" class=\"sk-top-container\"><div class=\"sk-text-repr-fallback\"><pre>KNeighborsClassifier(metric=&#x27;euclidean&#x27;, n_neighbors=3)</pre><b>In a Jupyter environment, please rerun this cell to show the HTML representation or trust the notebook. <br />On GitHub, the HTML representation is unable to render, please try loading this page with nbviewer.org.</b></div><div class=\"sk-container\" hidden><div class=\"sk-item\"><div class=\"sk-estimator sk-toggleable\"><input class=\"sk-toggleable__control sk-hidden--visually\" id=\"sk-estimator-id-30\" type=\"checkbox\" checked><label for=\"sk-estimator-id-30\" class=\"sk-toggleable__label sk-toggleable__label-arrow\">KNeighborsClassifier</label><div class=\"sk-toggleable__content\"><pre>KNeighborsClassifier(metric=&#x27;euclidean&#x27;, n_neighbors=3)</pre></div></div></div></div></div>"
      ],
      "text/plain": [
       "KNeighborsClassifier(metric='euclidean', n_neighbors=3)"
      ]
     },
     "execution_count": 312,
     "metadata": {},
     "output_type": "execute_result"
    }
   ],
   "source": [
    "knn = KNeighborsClassifier(n_neighbors = 3, weights = 'uniform', metric='euclidean')\n",
    "knn.fit(X_train, y_train)"
   ]
  },
  {
   "cell_type": "code",
   "execution_count": 313,
   "id": "36437028",
   "metadata": {},
   "outputs": [
    {
     "data": {
      "text/plain": [
       "array([1, 1, 1, 0, 1, 1, 1, 1, 0, 1, 1, 0, 1, 1, 1, 0, 1, 1, 1, 1, 0, 1,\n",
       "       1, 1, 1, 1, 1, 1, 1, 0, 1, 1, 1, 1, 1, 1, 0, 1, 1, 0, 1, 1, 1, 0,\n",
       "       1, 1, 1, 1, 1, 1, 0, 0, 1, 0, 1, 1, 0, 1, 1], dtype=int64)"
      ]
     },
     "execution_count": 313,
     "metadata": {},
     "output_type": "execute_result"
    }
   ],
   "source": [
    "knn_pred = knn.predict(X_test)\n",
    "knn_pred"
   ]
  },
  {
   "cell_type": "code",
   "execution_count": 314,
   "id": "11d0c2b0",
   "metadata": {},
   "outputs": [
    {
     "data": {
      "text/plain": [
       "0.8983050847457628"
      ]
     },
     "execution_count": 314,
     "metadata": {},
     "output_type": "execute_result"
    }
   ],
   "source": [
    "knn_accuracy = accuracy_score(y_test,knn_pred)\n",
    "knn_accuracy"
   ]
  },
  {
   "cell_type": "code",
   "execution_count": 315,
   "id": "c6764da2",
   "metadata": {},
   "outputs": [
    {
     "name": "stdout",
     "output_type": "stream",
     "text": [
      "              precision    recall  f1-score   support\n",
      "\n",
      "           0       1.00      0.68      0.81        19\n",
      "           1       0.87      1.00      0.93        40\n",
      "\n",
      "    accuracy                           0.90        59\n",
      "   macro avg       0.93      0.84      0.87        59\n",
      "weighted avg       0.91      0.90      0.89        59\n",
      "\n"
     ]
    }
   ],
   "source": [
    "knn_report = classification_report(y_test,knn_pred)\n",
    "print(knn_report)"
   ]
  },
  {
   "cell_type": "code",
   "execution_count": 316,
   "id": "4863a0ba",
   "metadata": {},
   "outputs": [
    {
     "data": {
      "text/plain": [
       "array([[13,  6],\n",
       "       [ 0, 40]], dtype=int64)"
      ]
     },
     "execution_count": 316,
     "metadata": {},
     "output_type": "execute_result"
    }
   ],
   "source": [
    "knn_cm = confusion_matrix(y_test,knn_pred)\n",
    "knn_cm"
   ]
  },
  {
   "cell_type": "markdown",
   "id": "bf37d6ab",
   "metadata": {},
   "source": [
    "Model Scoring\n",
    "1. Accuracy :: 90%\n",
    "\n",
    "2. Re-call :: 100%\n",
    "\n",
    "3. Precision :: 87%\n",
    "\n",
    "4. F1-Score :: 93%"
   ]
  },
  {
   "cell_type": "markdown",
   "id": "c9967181",
   "metadata": {},
   "source": [
    "### Naive Bayes"
   ]
  },
  {
   "cell_type": "code",
   "execution_count": 317,
   "id": "695762f3",
   "metadata": {},
   "outputs": [
    {
     "data": {
      "text/html": [
       "<style>#sk-container-id-27 {color: black;background-color: white;}#sk-container-id-27 pre{padding: 0;}#sk-container-id-27 div.sk-toggleable {background-color: white;}#sk-container-id-27 label.sk-toggleable__label {cursor: pointer;display: block;width: 100%;margin-bottom: 0;padding: 0.3em;box-sizing: border-box;text-align: center;}#sk-container-id-27 label.sk-toggleable__label-arrow:before {content: \"▸\";float: left;margin-right: 0.25em;color: #696969;}#sk-container-id-27 label.sk-toggleable__label-arrow:hover:before {color: black;}#sk-container-id-27 div.sk-estimator:hover label.sk-toggleable__label-arrow:before {color: black;}#sk-container-id-27 div.sk-toggleable__content {max-height: 0;max-width: 0;overflow: hidden;text-align: left;background-color: #f0f8ff;}#sk-container-id-27 div.sk-toggleable__content pre {margin: 0.2em;color: black;border-radius: 0.25em;background-color: #f0f8ff;}#sk-container-id-27 input.sk-toggleable__control:checked~div.sk-toggleable__content {max-height: 200px;max-width: 100%;overflow: auto;}#sk-container-id-27 input.sk-toggleable__control:checked~label.sk-toggleable__label-arrow:before {content: \"▾\";}#sk-container-id-27 div.sk-estimator input.sk-toggleable__control:checked~label.sk-toggleable__label {background-color: #d4ebff;}#sk-container-id-27 div.sk-label input.sk-toggleable__control:checked~label.sk-toggleable__label {background-color: #d4ebff;}#sk-container-id-27 input.sk-hidden--visually {border: 0;clip: rect(1px 1px 1px 1px);clip: rect(1px, 1px, 1px, 1px);height: 1px;margin: -1px;overflow: hidden;padding: 0;position: absolute;width: 1px;}#sk-container-id-27 div.sk-estimator {font-family: monospace;background-color: #f0f8ff;border: 1px dotted black;border-radius: 0.25em;box-sizing: border-box;margin-bottom: 0.5em;}#sk-container-id-27 div.sk-estimator:hover {background-color: #d4ebff;}#sk-container-id-27 div.sk-parallel-item::after {content: \"\";width: 100%;border-bottom: 1px solid gray;flex-grow: 1;}#sk-container-id-27 div.sk-label:hover label.sk-toggleable__label {background-color: #d4ebff;}#sk-container-id-27 div.sk-serial::before {content: \"\";position: absolute;border-left: 1px solid gray;box-sizing: border-box;top: 0;bottom: 0;left: 50%;z-index: 0;}#sk-container-id-27 div.sk-serial {display: flex;flex-direction: column;align-items: center;background-color: white;padding-right: 0.2em;padding-left: 0.2em;position: relative;}#sk-container-id-27 div.sk-item {position: relative;z-index: 1;}#sk-container-id-27 div.sk-parallel {display: flex;align-items: stretch;justify-content: center;background-color: white;position: relative;}#sk-container-id-27 div.sk-item::before, #sk-container-id-27 div.sk-parallel-item::before {content: \"\";position: absolute;border-left: 1px solid gray;box-sizing: border-box;top: 0;bottom: 0;left: 50%;z-index: -1;}#sk-container-id-27 div.sk-parallel-item {display: flex;flex-direction: column;z-index: 1;position: relative;background-color: white;}#sk-container-id-27 div.sk-parallel-item:first-child::after {align-self: flex-end;width: 50%;}#sk-container-id-27 div.sk-parallel-item:last-child::after {align-self: flex-start;width: 50%;}#sk-container-id-27 div.sk-parallel-item:only-child::after {width: 0;}#sk-container-id-27 div.sk-dashed-wrapped {border: 1px dashed gray;margin: 0 0.4em 0.5em 0.4em;box-sizing: border-box;padding-bottom: 0.4em;background-color: white;}#sk-container-id-27 div.sk-label label {font-family: monospace;font-weight: bold;display: inline-block;line-height: 1.2em;}#sk-container-id-27 div.sk-label-container {text-align: center;}#sk-container-id-27 div.sk-container {/* jupyter's `normalize.less` sets `[hidden] { display: none; }` but bootstrap.min.css set `[hidden] { display: none !important; }` so we also need the `!important` here to be able to override the default hidden behavior on the sphinx rendered scikit-learn.org. See: https://github.com/scikit-learn/scikit-learn/issues/21755 */display: inline-block !important;position: relative;}#sk-container-id-27 div.sk-text-repr-fallback {display: none;}</style><div id=\"sk-container-id-27\" class=\"sk-top-container\"><div class=\"sk-text-repr-fallback\"><pre>GaussianNB()</pre><b>In a Jupyter environment, please rerun this cell to show the HTML representation or trust the notebook. <br />On GitHub, the HTML representation is unable to render, please try loading this page with nbviewer.org.</b></div><div class=\"sk-container\" hidden><div class=\"sk-item\"><div class=\"sk-estimator sk-toggleable\"><input class=\"sk-toggleable__control sk-hidden--visually\" id=\"sk-estimator-id-31\" type=\"checkbox\" checked><label for=\"sk-estimator-id-31\" class=\"sk-toggleable__label sk-toggleable__label-arrow\">GaussianNB</label><div class=\"sk-toggleable__content\"><pre>GaussianNB()</pre></div></div></div></div></div>"
      ],
      "text/plain": [
       "GaussianNB()"
      ]
     },
     "execution_count": 317,
     "metadata": {},
     "output_type": "execute_result"
    }
   ],
   "source": [
    "from sklearn.naive_bayes import GaussianNB\n",
    "nb_classfier=GaussianNB()\n",
    "nb_classfier.fit(X_train,y_train)"
   ]
  },
  {
   "cell_type": "code",
   "execution_count": 318,
   "id": "853be7df",
   "metadata": {
    "scrolled": true
   },
   "outputs": [
    {
     "data": {
      "text/plain": [
       "0.7205882352941176"
      ]
     },
     "execution_count": 318,
     "metadata": {},
     "output_type": "execute_result"
    }
   ],
   "source": [
    "nb_classfier.score(X_train , y_train)"
   ]
  },
  {
   "cell_type": "code",
   "execution_count": 319,
   "id": "b12cb95f",
   "metadata": {},
   "outputs": [
    {
     "data": {
      "text/plain": [
       "0.6779661016949152"
      ]
     },
     "execution_count": 319,
     "metadata": {},
     "output_type": "execute_result"
    }
   ],
   "source": [
    "nb_classfier.score(X_test, y_test)"
   ]
  },
  {
   "cell_type": "code",
   "execution_count": 320,
   "id": "5ddce33d",
   "metadata": {},
   "outputs": [
    {
     "data": {
      "text/plain": [
       "array([0, 0, 1, 0, 1, 1, 1, 0, 0, 0, 0, 0, 1, 0, 0, 0, 1, 0, 1, 1, 0, 0,\n",
       "       1, 1, 0, 1, 1, 0, 1, 0, 1, 0, 1, 1, 1, 1, 0, 0, 0, 0, 0, 0, 1, 0,\n",
       "       0, 1, 0, 1, 1, 1, 0, 0, 1, 1, 0, 0, 0, 1, 1], dtype=int64)"
      ]
     },
     "execution_count": 320,
     "metadata": {},
     "output_type": "execute_result"
    }
   ],
   "source": [
    "nb_pred = nb_classfier.predict(X_test)\n",
    "nb_pred"
   ]
  },
  {
   "cell_type": "code",
   "execution_count": 321,
   "id": "44c45080",
   "metadata": {},
   "outputs": [
    {
     "data": {
      "text/plain": [
       "0.6779661016949152"
      ]
     },
     "execution_count": 321,
     "metadata": {},
     "output_type": "execute_result"
    }
   ],
   "source": [
    "nb_accuracy = accuracy_score(y_test,nb_pred)\n",
    "nb_accuracy"
   ]
  },
  {
   "cell_type": "code",
   "execution_count": 322,
   "id": "cebd9388",
   "metadata": {},
   "outputs": [
    {
     "name": "stdout",
     "output_type": "stream",
     "text": [
      "              precision    recall  f1-score   support\n",
      "\n",
      "           0       0.50      0.84      0.63        19\n",
      "           1       0.89      0.60      0.72        40\n",
      "\n",
      "    accuracy                           0.68        59\n",
      "   macro avg       0.69      0.72      0.67        59\n",
      "weighted avg       0.76      0.68      0.69        59\n",
      "\n"
     ]
    }
   ],
   "source": [
    "nb_report = classification_report(y_test,nb_pred)\n",
    "print(nb_report)"
   ]
  },
  {
   "cell_type": "code",
   "execution_count": 323,
   "id": "93499d88",
   "metadata": {},
   "outputs": [
    {
     "data": {
      "text/plain": [
       "array([[16,  3],\n",
       "       [16, 24]], dtype=int64)"
      ]
     },
     "execution_count": 323,
     "metadata": {},
     "output_type": "execute_result"
    }
   ],
   "source": [
    "nb_cm = confusion_matrix(y_test,nb_pred)\n",
    "nb_cm"
   ]
  },
  {
   "cell_type": "markdown",
   "id": "2c7f1317",
   "metadata": {},
   "source": [
    "Model Scoring\n",
    "1. Accuracy :: 68%\n",
    "\n",
    "2. Re-call :: 60%\n",
    "\n",
    "3. Precision :: 89%\n",
    "\n",
    "4. F1-Score :: 72%"
   ]
  },
  {
   "cell_type": "markdown",
   "id": "35575023",
   "metadata": {},
   "source": [
    "### SVM"
   ]
  },
  {
   "cell_type": "code",
   "execution_count": 324,
   "id": "b5e37c75",
   "metadata": {},
   "outputs": [
    {
     "data": {
      "text/html": [
       "<style>#sk-container-id-28 {color: black;background-color: white;}#sk-container-id-28 pre{padding: 0;}#sk-container-id-28 div.sk-toggleable {background-color: white;}#sk-container-id-28 label.sk-toggleable__label {cursor: pointer;display: block;width: 100%;margin-bottom: 0;padding: 0.3em;box-sizing: border-box;text-align: center;}#sk-container-id-28 label.sk-toggleable__label-arrow:before {content: \"▸\";float: left;margin-right: 0.25em;color: #696969;}#sk-container-id-28 label.sk-toggleable__label-arrow:hover:before {color: black;}#sk-container-id-28 div.sk-estimator:hover label.sk-toggleable__label-arrow:before {color: black;}#sk-container-id-28 div.sk-toggleable__content {max-height: 0;max-width: 0;overflow: hidden;text-align: left;background-color: #f0f8ff;}#sk-container-id-28 div.sk-toggleable__content pre {margin: 0.2em;color: black;border-radius: 0.25em;background-color: #f0f8ff;}#sk-container-id-28 input.sk-toggleable__control:checked~div.sk-toggleable__content {max-height: 200px;max-width: 100%;overflow: auto;}#sk-container-id-28 input.sk-toggleable__control:checked~label.sk-toggleable__label-arrow:before {content: \"▾\";}#sk-container-id-28 div.sk-estimator input.sk-toggleable__control:checked~label.sk-toggleable__label {background-color: #d4ebff;}#sk-container-id-28 div.sk-label input.sk-toggleable__control:checked~label.sk-toggleable__label {background-color: #d4ebff;}#sk-container-id-28 input.sk-hidden--visually {border: 0;clip: rect(1px 1px 1px 1px);clip: rect(1px, 1px, 1px, 1px);height: 1px;margin: -1px;overflow: hidden;padding: 0;position: absolute;width: 1px;}#sk-container-id-28 div.sk-estimator {font-family: monospace;background-color: #f0f8ff;border: 1px dotted black;border-radius: 0.25em;box-sizing: border-box;margin-bottom: 0.5em;}#sk-container-id-28 div.sk-estimator:hover {background-color: #d4ebff;}#sk-container-id-28 div.sk-parallel-item::after {content: \"\";width: 100%;border-bottom: 1px solid gray;flex-grow: 1;}#sk-container-id-28 div.sk-label:hover label.sk-toggleable__label {background-color: #d4ebff;}#sk-container-id-28 div.sk-serial::before {content: \"\";position: absolute;border-left: 1px solid gray;box-sizing: border-box;top: 0;bottom: 0;left: 50%;z-index: 0;}#sk-container-id-28 div.sk-serial {display: flex;flex-direction: column;align-items: center;background-color: white;padding-right: 0.2em;padding-left: 0.2em;position: relative;}#sk-container-id-28 div.sk-item {position: relative;z-index: 1;}#sk-container-id-28 div.sk-parallel {display: flex;align-items: stretch;justify-content: center;background-color: white;position: relative;}#sk-container-id-28 div.sk-item::before, #sk-container-id-28 div.sk-parallel-item::before {content: \"\";position: absolute;border-left: 1px solid gray;box-sizing: border-box;top: 0;bottom: 0;left: 50%;z-index: -1;}#sk-container-id-28 div.sk-parallel-item {display: flex;flex-direction: column;z-index: 1;position: relative;background-color: white;}#sk-container-id-28 div.sk-parallel-item:first-child::after {align-self: flex-end;width: 50%;}#sk-container-id-28 div.sk-parallel-item:last-child::after {align-self: flex-start;width: 50%;}#sk-container-id-28 div.sk-parallel-item:only-child::after {width: 0;}#sk-container-id-28 div.sk-dashed-wrapped {border: 1px dashed gray;margin: 0 0.4em 0.5em 0.4em;box-sizing: border-box;padding-bottom: 0.4em;background-color: white;}#sk-container-id-28 div.sk-label label {font-family: monospace;font-weight: bold;display: inline-block;line-height: 1.2em;}#sk-container-id-28 div.sk-label-container {text-align: center;}#sk-container-id-28 div.sk-container {/* jupyter's `normalize.less` sets `[hidden] { display: none; }` but bootstrap.min.css set `[hidden] { display: none !important; }` so we also need the `!important` here to be able to override the default hidden behavior on the sphinx rendered scikit-learn.org. See: https://github.com/scikit-learn/scikit-learn/issues/21755 */display: inline-block !important;position: relative;}#sk-container-id-28 div.sk-text-repr-fallback {display: none;}</style><div id=\"sk-container-id-28\" class=\"sk-top-container\"><div class=\"sk-text-repr-fallback\"><pre>SVC()</pre><b>In a Jupyter environment, please rerun this cell to show the HTML representation or trust the notebook. <br />On GitHub, the HTML representation is unable to render, please try loading this page with nbviewer.org.</b></div><div class=\"sk-container\" hidden><div class=\"sk-item\"><div class=\"sk-estimator sk-toggleable\"><input class=\"sk-toggleable__control sk-hidden--visually\" id=\"sk-estimator-id-32\" type=\"checkbox\" checked><label for=\"sk-estimator-id-32\" class=\"sk-toggleable__label sk-toggleable__label-arrow\">SVC</label><div class=\"sk-toggleable__content\"><pre>SVC()</pre></div></div></div></div></div>"
      ],
      "text/plain": [
       "SVC()"
      ]
     },
     "execution_count": 324,
     "metadata": {},
     "output_type": "execute_result"
    }
   ],
   "source": [
    "from sklearn.svm import SVC\n",
    "svc_classifier = SVC()\n",
    "svc_classifier.fit(X_train , y_train)"
   ]
  },
  {
   "cell_type": "code",
   "execution_count": 325,
   "id": "3961c036",
   "metadata": {},
   "outputs": [
    {
     "data": {
      "text/plain": [
       "0.9044117647058824"
      ]
     },
     "execution_count": 325,
     "metadata": {},
     "output_type": "execute_result"
    }
   ],
   "source": [
    "svc_classifier.score(X_train , y_train)"
   ]
  },
  {
   "cell_type": "code",
   "execution_count": 326,
   "id": "e22da434",
   "metadata": {},
   "outputs": [
    {
     "data": {
      "text/plain": [
       "0.7966101694915254"
      ]
     },
     "execution_count": 326,
     "metadata": {},
     "output_type": "execute_result"
    }
   ],
   "source": [
    "svc_classifier.score(X_test, y_test)"
   ]
  },
  {
   "cell_type": "code",
   "execution_count": 327,
   "id": "e6402856",
   "metadata": {},
   "outputs": [
    {
     "data": {
      "text/plain": [
       "array([1, 1, 1, 1, 1, 1, 1, 1, 1, 1, 1, 0, 1, 1, 1, 0, 1, 1, 1, 1, 0, 1,\n",
       "       1, 1, 1, 1, 1, 1, 1, 0, 1, 1, 1, 1, 1, 1, 0, 1, 1, 1, 1, 1, 1, 0,\n",
       "       1, 1, 1, 1, 1, 1, 0, 1, 1, 1, 1, 1, 1, 1, 1], dtype=int64)"
      ]
     },
     "execution_count": 327,
     "metadata": {},
     "output_type": "execute_result"
    }
   ],
   "source": [
    "svc_pred = svc_classifier.predict(X_test)\n",
    "svc_pred"
   ]
  },
  {
   "cell_type": "code",
   "execution_count": 328,
   "id": "cc881100",
   "metadata": {},
   "outputs": [
    {
     "data": {
      "text/plain": [
       "0.7966101694915254"
      ]
     },
     "execution_count": 328,
     "metadata": {},
     "output_type": "execute_result"
    }
   ],
   "source": [
    "svc_accuracy = accuracy_score(y_test,svc_pred)\n",
    "svc_accuracy"
   ]
  },
  {
   "cell_type": "code",
   "execution_count": 329,
   "id": "b1461988",
   "metadata": {},
   "outputs": [
    {
     "name": "stdout",
     "output_type": "stream",
     "text": [
      "              precision    recall  f1-score   support\n",
      "\n",
      "           0       1.00      0.37      0.54        19\n",
      "           1       0.77      1.00      0.87        40\n",
      "\n",
      "    accuracy                           0.80        59\n",
      "   macro avg       0.88      0.68      0.70        59\n",
      "weighted avg       0.84      0.80      0.76        59\n",
      "\n"
     ]
    }
   ],
   "source": [
    "svc_report = classification_report(y_test,svc_pred)\n",
    "print(svc_report)"
   ]
  },
  {
   "cell_type": "code",
   "execution_count": 330,
   "id": "4ecaee4c",
   "metadata": {},
   "outputs": [
    {
     "data": {
      "text/plain": [
       "array([[ 7, 12],\n",
       "       [ 0, 40]], dtype=int64)"
      ]
     },
     "execution_count": 330,
     "metadata": {},
     "output_type": "execute_result"
    }
   ],
   "source": [
    "svc_cm = confusion_matrix(y_test,svc_pred)\n",
    "svc_cm"
   ]
  },
  {
   "cell_type": "markdown",
   "id": "2903e403",
   "metadata": {},
   "source": [
    "Model Scoring\n",
    "1. Accuracy :: 80%\n",
    "\n",
    "2. Re-call :: 100%\n",
    "\n",
    "3. Precision :: 77%\n",
    "\n",
    "4. F1-Score :: 87%"
   ]
  },
  {
   "cell_type": "markdown",
   "id": "a117142b",
   "metadata": {},
   "source": [
    "### Decision Tree"
   ]
  },
  {
   "cell_type": "code",
   "execution_count": 331,
   "id": "09f46fae",
   "metadata": {},
   "outputs": [
    {
     "data": {
      "text/html": [
       "<style>#sk-container-id-29 {color: black;background-color: white;}#sk-container-id-29 pre{padding: 0;}#sk-container-id-29 div.sk-toggleable {background-color: white;}#sk-container-id-29 label.sk-toggleable__label {cursor: pointer;display: block;width: 100%;margin-bottom: 0;padding: 0.3em;box-sizing: border-box;text-align: center;}#sk-container-id-29 label.sk-toggleable__label-arrow:before {content: \"▸\";float: left;margin-right: 0.25em;color: #696969;}#sk-container-id-29 label.sk-toggleable__label-arrow:hover:before {color: black;}#sk-container-id-29 div.sk-estimator:hover label.sk-toggleable__label-arrow:before {color: black;}#sk-container-id-29 div.sk-toggleable__content {max-height: 0;max-width: 0;overflow: hidden;text-align: left;background-color: #f0f8ff;}#sk-container-id-29 div.sk-toggleable__content pre {margin: 0.2em;color: black;border-radius: 0.25em;background-color: #f0f8ff;}#sk-container-id-29 input.sk-toggleable__control:checked~div.sk-toggleable__content {max-height: 200px;max-width: 100%;overflow: auto;}#sk-container-id-29 input.sk-toggleable__control:checked~label.sk-toggleable__label-arrow:before {content: \"▾\";}#sk-container-id-29 div.sk-estimator input.sk-toggleable__control:checked~label.sk-toggleable__label {background-color: #d4ebff;}#sk-container-id-29 div.sk-label input.sk-toggleable__control:checked~label.sk-toggleable__label {background-color: #d4ebff;}#sk-container-id-29 input.sk-hidden--visually {border: 0;clip: rect(1px 1px 1px 1px);clip: rect(1px, 1px, 1px, 1px);height: 1px;margin: -1px;overflow: hidden;padding: 0;position: absolute;width: 1px;}#sk-container-id-29 div.sk-estimator {font-family: monospace;background-color: #f0f8ff;border: 1px dotted black;border-radius: 0.25em;box-sizing: border-box;margin-bottom: 0.5em;}#sk-container-id-29 div.sk-estimator:hover {background-color: #d4ebff;}#sk-container-id-29 div.sk-parallel-item::after {content: \"\";width: 100%;border-bottom: 1px solid gray;flex-grow: 1;}#sk-container-id-29 div.sk-label:hover label.sk-toggleable__label {background-color: #d4ebff;}#sk-container-id-29 div.sk-serial::before {content: \"\";position: absolute;border-left: 1px solid gray;box-sizing: border-box;top: 0;bottom: 0;left: 50%;z-index: 0;}#sk-container-id-29 div.sk-serial {display: flex;flex-direction: column;align-items: center;background-color: white;padding-right: 0.2em;padding-left: 0.2em;position: relative;}#sk-container-id-29 div.sk-item {position: relative;z-index: 1;}#sk-container-id-29 div.sk-parallel {display: flex;align-items: stretch;justify-content: center;background-color: white;position: relative;}#sk-container-id-29 div.sk-item::before, #sk-container-id-29 div.sk-parallel-item::before {content: \"\";position: absolute;border-left: 1px solid gray;box-sizing: border-box;top: 0;bottom: 0;left: 50%;z-index: -1;}#sk-container-id-29 div.sk-parallel-item {display: flex;flex-direction: column;z-index: 1;position: relative;background-color: white;}#sk-container-id-29 div.sk-parallel-item:first-child::after {align-self: flex-end;width: 50%;}#sk-container-id-29 div.sk-parallel-item:last-child::after {align-self: flex-start;width: 50%;}#sk-container-id-29 div.sk-parallel-item:only-child::after {width: 0;}#sk-container-id-29 div.sk-dashed-wrapped {border: 1px dashed gray;margin: 0 0.4em 0.5em 0.4em;box-sizing: border-box;padding-bottom: 0.4em;background-color: white;}#sk-container-id-29 div.sk-label label {font-family: monospace;font-weight: bold;display: inline-block;line-height: 1.2em;}#sk-container-id-29 div.sk-label-container {text-align: center;}#sk-container-id-29 div.sk-container {/* jupyter's `normalize.less` sets `[hidden] { display: none; }` but bootstrap.min.css set `[hidden] { display: none !important; }` so we also need the `!important` here to be able to override the default hidden behavior on the sphinx rendered scikit-learn.org. See: https://github.com/scikit-learn/scikit-learn/issues/21755 */display: inline-block !important;position: relative;}#sk-container-id-29 div.sk-text-repr-fallback {display: none;}</style><div id=\"sk-container-id-29\" class=\"sk-top-container\"><div class=\"sk-text-repr-fallback\"><pre>DecisionTreeClassifier(criterion=&#x27;entropy&#x27;)</pre><b>In a Jupyter environment, please rerun this cell to show the HTML representation or trust the notebook. <br />On GitHub, the HTML representation is unable to render, please try loading this page with nbviewer.org.</b></div><div class=\"sk-container\" hidden><div class=\"sk-item\"><div class=\"sk-estimator sk-toggleable\"><input class=\"sk-toggleable__control sk-hidden--visually\" id=\"sk-estimator-id-33\" type=\"checkbox\" checked><label for=\"sk-estimator-id-33\" class=\"sk-toggleable__label sk-toggleable__label-arrow\">DecisionTreeClassifier</label><div class=\"sk-toggleable__content\"><pre>DecisionTreeClassifier(criterion=&#x27;entropy&#x27;)</pre></div></div></div></div></div>"
      ],
      "text/plain": [
       "DecisionTreeClassifier(criterion='entropy')"
      ]
     },
     "execution_count": 331,
     "metadata": {},
     "output_type": "execute_result"
    }
   ],
   "source": [
    "from sklearn.tree import DecisionTreeClassifier\n",
    "dt_classifier = DecisionTreeClassifier(criterion='entropy')\n",
    "dt_classifier.fit(X_train, y_train)"
   ]
  },
  {
   "cell_type": "code",
   "execution_count": 332,
   "id": "d497d428",
   "metadata": {
    "scrolled": true
   },
   "outputs": [
    {
     "data": {
      "text/plain": [
       "1.0"
      ]
     },
     "execution_count": 332,
     "metadata": {},
     "output_type": "execute_result"
    }
   ],
   "source": [
    "dt_classifier.score(X_train , y_train)"
   ]
  },
  {
   "cell_type": "code",
   "execution_count": 333,
   "id": "9ccb9ac0",
   "metadata": {},
   "outputs": [
    {
     "data": {
      "text/plain": [
       "0.8983050847457628"
      ]
     },
     "execution_count": 333,
     "metadata": {},
     "output_type": "execute_result"
    }
   ],
   "source": [
    "dt_classifier.score(X_test, y_test)"
   ]
  },
  {
   "cell_type": "code",
   "execution_count": 334,
   "id": "910ba736",
   "metadata": {},
   "outputs": [
    {
     "data": {
      "text/plain": [
       "array([1, 1, 1, 1, 1, 0, 1, 1, 0, 1, 1, 0, 1, 1, 1, 0, 1, 1, 1, 1, 1, 1,\n",
       "       1, 1, 1, 1, 1, 1, 1, 0, 1, 1, 1, 0, 1, 1, 0, 1, 0, 1, 1, 1, 1, 0,\n",
       "       1, 1, 1, 1, 1, 1, 0, 0, 1, 0, 0, 0, 0, 1, 1], dtype=int64)"
      ]
     },
     "execution_count": 334,
     "metadata": {},
     "output_type": "execute_result"
    }
   ],
   "source": [
    "y_pred = dt_classifier.predict(X_test)\n",
    "y_pred"
   ]
  },
  {
   "cell_type": "code",
   "execution_count": 335,
   "id": "50d800bd",
   "metadata": {},
   "outputs": [],
   "source": [
    "from sklearn.metrics import accuracy_score, confusion_matrix,classification_report"
   ]
  },
  {
   "cell_type": "code",
   "execution_count": 336,
   "id": "374b8b0b",
   "metadata": {},
   "outputs": [
    {
     "data": {
      "text/plain": [
       "0.8983050847457628"
      ]
     },
     "execution_count": 336,
     "metadata": {},
     "output_type": "execute_result"
    }
   ],
   "source": [
    "dt_accuracy = accuracy_score(y_test,y_pred)\n",
    "dt_accuracy"
   ]
  },
  {
   "cell_type": "code",
   "execution_count": 337,
   "id": "69733a66",
   "metadata": {},
   "outputs": [
    {
     "name": "stdout",
     "output_type": "stream",
     "text": [
      "              precision    recall  f1-score   support\n",
      "\n",
      "           0       0.93      0.74      0.82        19\n",
      "           1       0.89      0.97      0.93        40\n",
      "\n",
      "    accuracy                           0.90        59\n",
      "   macro avg       0.91      0.86      0.88        59\n",
      "weighted avg       0.90      0.90      0.89        59\n",
      "\n"
     ]
    }
   ],
   "source": [
    "dt_report = classification_report(y_test,y_pred)\n",
    "print(dt_report)"
   ]
  },
  {
   "cell_type": "code",
   "execution_count": 338,
   "id": "6d87d823",
   "metadata": {},
   "outputs": [
    {
     "data": {
      "text/plain": [
       "array([[14,  5],\n",
       "       [ 1, 39]], dtype=int64)"
      ]
     },
     "execution_count": 338,
     "metadata": {},
     "output_type": "execute_result"
    }
   ],
   "source": [
    "dt_cm = confusion_matrix(y_test,y_pred)\n",
    "dt_cm"
   ]
  },
  {
   "cell_type": "code",
   "execution_count": 339,
   "id": "134edbaa",
   "metadata": {},
   "outputs": [
    {
     "data": {
      "text/html": [
       "<style>#sk-container-id-30 {color: black;background-color: white;}#sk-container-id-30 pre{padding: 0;}#sk-container-id-30 div.sk-toggleable {background-color: white;}#sk-container-id-30 label.sk-toggleable__label {cursor: pointer;display: block;width: 100%;margin-bottom: 0;padding: 0.3em;box-sizing: border-box;text-align: center;}#sk-container-id-30 label.sk-toggleable__label-arrow:before {content: \"▸\";float: left;margin-right: 0.25em;color: #696969;}#sk-container-id-30 label.sk-toggleable__label-arrow:hover:before {color: black;}#sk-container-id-30 div.sk-estimator:hover label.sk-toggleable__label-arrow:before {color: black;}#sk-container-id-30 div.sk-toggleable__content {max-height: 0;max-width: 0;overflow: hidden;text-align: left;background-color: #f0f8ff;}#sk-container-id-30 div.sk-toggleable__content pre {margin: 0.2em;color: black;border-radius: 0.25em;background-color: #f0f8ff;}#sk-container-id-30 input.sk-toggleable__control:checked~div.sk-toggleable__content {max-height: 200px;max-width: 100%;overflow: auto;}#sk-container-id-30 input.sk-toggleable__control:checked~label.sk-toggleable__label-arrow:before {content: \"▾\";}#sk-container-id-30 div.sk-estimator input.sk-toggleable__control:checked~label.sk-toggleable__label {background-color: #d4ebff;}#sk-container-id-30 div.sk-label input.sk-toggleable__control:checked~label.sk-toggleable__label {background-color: #d4ebff;}#sk-container-id-30 input.sk-hidden--visually {border: 0;clip: rect(1px 1px 1px 1px);clip: rect(1px, 1px, 1px, 1px);height: 1px;margin: -1px;overflow: hidden;padding: 0;position: absolute;width: 1px;}#sk-container-id-30 div.sk-estimator {font-family: monospace;background-color: #f0f8ff;border: 1px dotted black;border-radius: 0.25em;box-sizing: border-box;margin-bottom: 0.5em;}#sk-container-id-30 div.sk-estimator:hover {background-color: #d4ebff;}#sk-container-id-30 div.sk-parallel-item::after {content: \"\";width: 100%;border-bottom: 1px solid gray;flex-grow: 1;}#sk-container-id-30 div.sk-label:hover label.sk-toggleable__label {background-color: #d4ebff;}#sk-container-id-30 div.sk-serial::before {content: \"\";position: absolute;border-left: 1px solid gray;box-sizing: border-box;top: 0;bottom: 0;left: 50%;z-index: 0;}#sk-container-id-30 div.sk-serial {display: flex;flex-direction: column;align-items: center;background-color: white;padding-right: 0.2em;padding-left: 0.2em;position: relative;}#sk-container-id-30 div.sk-item {position: relative;z-index: 1;}#sk-container-id-30 div.sk-parallel {display: flex;align-items: stretch;justify-content: center;background-color: white;position: relative;}#sk-container-id-30 div.sk-item::before, #sk-container-id-30 div.sk-parallel-item::before {content: \"\";position: absolute;border-left: 1px solid gray;box-sizing: border-box;top: 0;bottom: 0;left: 50%;z-index: -1;}#sk-container-id-30 div.sk-parallel-item {display: flex;flex-direction: column;z-index: 1;position: relative;background-color: white;}#sk-container-id-30 div.sk-parallel-item:first-child::after {align-self: flex-end;width: 50%;}#sk-container-id-30 div.sk-parallel-item:last-child::after {align-self: flex-start;width: 50%;}#sk-container-id-30 div.sk-parallel-item:only-child::after {width: 0;}#sk-container-id-30 div.sk-dashed-wrapped {border: 1px dashed gray;margin: 0 0.4em 0.5em 0.4em;box-sizing: border-box;padding-bottom: 0.4em;background-color: white;}#sk-container-id-30 div.sk-label label {font-family: monospace;font-weight: bold;display: inline-block;line-height: 1.2em;}#sk-container-id-30 div.sk-label-container {text-align: center;}#sk-container-id-30 div.sk-container {/* jupyter's `normalize.less` sets `[hidden] { display: none; }` but bootstrap.min.css set `[hidden] { display: none !important; }` so we also need the `!important` here to be able to override the default hidden behavior on the sphinx rendered scikit-learn.org. See: https://github.com/scikit-learn/scikit-learn/issues/21755 */display: inline-block !important;position: relative;}#sk-container-id-30 div.sk-text-repr-fallback {display: none;}</style><div id=\"sk-container-id-30\" class=\"sk-top-container\"><div class=\"sk-text-repr-fallback\"><pre>DecisionTreeClassifier(criterion=&#x27;entropy&#x27;, max_depth=10)</pre><b>In a Jupyter environment, please rerun this cell to show the HTML representation or trust the notebook. <br />On GitHub, the HTML representation is unable to render, please try loading this page with nbviewer.org.</b></div><div class=\"sk-container\" hidden><div class=\"sk-item\"><div class=\"sk-estimator sk-toggleable\"><input class=\"sk-toggleable__control sk-hidden--visually\" id=\"sk-estimator-id-34\" type=\"checkbox\" checked><label for=\"sk-estimator-id-34\" class=\"sk-toggleable__label sk-toggleable__label-arrow\">DecisionTreeClassifier</label><div class=\"sk-toggleable__content\"><pre>DecisionTreeClassifier(criterion=&#x27;entropy&#x27;, max_depth=10)</pre></div></div></div></div></div>"
      ],
      "text/plain": [
       "DecisionTreeClassifier(criterion='entropy', max_depth=10)"
      ]
     },
     "execution_count": 339,
     "metadata": {},
     "output_type": "execute_result"
    }
   ],
   "source": [
    "dt_classifier1 = DecisionTreeClassifier(criterion='entropy', max_depth = 10)\n",
    "dt_classifier1.fit(X_train, y_train)"
   ]
  },
  {
   "cell_type": "code",
   "execution_count": 340,
   "id": "e87e718b",
   "metadata": {},
   "outputs": [
    {
     "data": {
      "text/plain": [
       "1.0"
      ]
     },
     "execution_count": 340,
     "metadata": {},
     "output_type": "execute_result"
    }
   ],
   "source": [
    "dt_classifier1.score(X_train , y_train)"
   ]
  },
  {
   "cell_type": "code",
   "execution_count": 341,
   "id": "f806b25c",
   "metadata": {},
   "outputs": [
    {
     "data": {
      "text/plain": [
       "0.8983050847457628"
      ]
     },
     "execution_count": 341,
     "metadata": {},
     "output_type": "execute_result"
    }
   ],
   "source": [
    "dt_classifier1.score(X_test, y_test)"
   ]
  },
  {
   "cell_type": "code",
   "execution_count": 342,
   "id": "40ee7dc5",
   "metadata": {},
   "outputs": [
    {
     "data": {
      "text/plain": [
       "array([1, 1, 1, 1, 1, 0, 1, 1, 0, 1, 1, 0, 1, 1, 1, 0, 1, 1, 1, 1, 1, 1,\n",
       "       1, 1, 1, 1, 1, 1, 1, 0, 1, 1, 1, 0, 1, 1, 0, 1, 0, 1, 1, 1, 1, 0,\n",
       "       1, 1, 1, 1, 1, 1, 0, 0, 1, 0, 0, 0, 0, 1, 1], dtype=int64)"
      ]
     },
     "execution_count": 342,
     "metadata": {},
     "output_type": "execute_result"
    }
   ],
   "source": [
    "y_pred1 = dt_classifier1.predict(X_test)\n",
    "y_pred1"
   ]
  },
  {
   "cell_type": "code",
   "execution_count": 343,
   "id": "696f7c53",
   "metadata": {},
   "outputs": [
    {
     "data": {
      "text/plain": [
       "0.8983050847457628"
      ]
     },
     "execution_count": 343,
     "metadata": {},
     "output_type": "execute_result"
    }
   ],
   "source": [
    "dt_accuracy1 = accuracy_score(y_test,y_pred1)\n",
    "dt_accuracy1"
   ]
  },
  {
   "cell_type": "code",
   "execution_count": 344,
   "id": "048e5293",
   "metadata": {},
   "outputs": [
    {
     "name": "stdout",
     "output_type": "stream",
     "text": [
      "              precision    recall  f1-score   support\n",
      "\n",
      "           0       0.93      0.74      0.82        19\n",
      "           1       0.89      0.97      0.93        40\n",
      "\n",
      "    accuracy                           0.90        59\n",
      "   macro avg       0.91      0.86      0.88        59\n",
      "weighted avg       0.90      0.90      0.89        59\n",
      "\n"
     ]
    }
   ],
   "source": [
    "dt_report1 = classification_report(y_test,y_pred1)\n",
    "print(dt_report1)"
   ]
  },
  {
   "cell_type": "code",
   "execution_count": 345,
   "id": "2f3fccee",
   "metadata": {},
   "outputs": [
    {
     "data": {
      "text/plain": [
       "array([[14,  5],\n",
       "       [ 1, 39]], dtype=int64)"
      ]
     },
     "execution_count": 345,
     "metadata": {},
     "output_type": "execute_result"
    }
   ],
   "source": [
    "dt_cm1 = confusion_matrix(y_test,y_pred1)\n",
    "dt_cm1"
   ]
  },
  {
   "cell_type": "markdown",
   "id": "7284f4d3",
   "metadata": {},
   "source": [
    "Model Scoring\n",
    "1. Accuracy :: 86%\n",
    "\n",
    "2. Re-call :: 97%\n",
    "\n",
    "3. Precision :: 85%\n",
    "\n",
    "4. F1-Score :: 91%"
   ]
  },
  {
   "cell_type": "markdown",
   "id": "0a1fbe25",
   "metadata": {},
   "source": [
    "### Random Forest"
   ]
  },
  {
   "cell_type": "code",
   "execution_count": 346,
   "id": "3517e909",
   "metadata": {},
   "outputs": [
    {
     "data": {
      "text/html": [
       "<style>#sk-container-id-31 {color: black;background-color: white;}#sk-container-id-31 pre{padding: 0;}#sk-container-id-31 div.sk-toggleable {background-color: white;}#sk-container-id-31 label.sk-toggleable__label {cursor: pointer;display: block;width: 100%;margin-bottom: 0;padding: 0.3em;box-sizing: border-box;text-align: center;}#sk-container-id-31 label.sk-toggleable__label-arrow:before {content: \"▸\";float: left;margin-right: 0.25em;color: #696969;}#sk-container-id-31 label.sk-toggleable__label-arrow:hover:before {color: black;}#sk-container-id-31 div.sk-estimator:hover label.sk-toggleable__label-arrow:before {color: black;}#sk-container-id-31 div.sk-toggleable__content {max-height: 0;max-width: 0;overflow: hidden;text-align: left;background-color: #f0f8ff;}#sk-container-id-31 div.sk-toggleable__content pre {margin: 0.2em;color: black;border-radius: 0.25em;background-color: #f0f8ff;}#sk-container-id-31 input.sk-toggleable__control:checked~div.sk-toggleable__content {max-height: 200px;max-width: 100%;overflow: auto;}#sk-container-id-31 input.sk-toggleable__control:checked~label.sk-toggleable__label-arrow:before {content: \"▾\";}#sk-container-id-31 div.sk-estimator input.sk-toggleable__control:checked~label.sk-toggleable__label {background-color: #d4ebff;}#sk-container-id-31 div.sk-label input.sk-toggleable__control:checked~label.sk-toggleable__label {background-color: #d4ebff;}#sk-container-id-31 input.sk-hidden--visually {border: 0;clip: rect(1px 1px 1px 1px);clip: rect(1px, 1px, 1px, 1px);height: 1px;margin: -1px;overflow: hidden;padding: 0;position: absolute;width: 1px;}#sk-container-id-31 div.sk-estimator {font-family: monospace;background-color: #f0f8ff;border: 1px dotted black;border-radius: 0.25em;box-sizing: border-box;margin-bottom: 0.5em;}#sk-container-id-31 div.sk-estimator:hover {background-color: #d4ebff;}#sk-container-id-31 div.sk-parallel-item::after {content: \"\";width: 100%;border-bottom: 1px solid gray;flex-grow: 1;}#sk-container-id-31 div.sk-label:hover label.sk-toggleable__label {background-color: #d4ebff;}#sk-container-id-31 div.sk-serial::before {content: \"\";position: absolute;border-left: 1px solid gray;box-sizing: border-box;top: 0;bottom: 0;left: 50%;z-index: 0;}#sk-container-id-31 div.sk-serial {display: flex;flex-direction: column;align-items: center;background-color: white;padding-right: 0.2em;padding-left: 0.2em;position: relative;}#sk-container-id-31 div.sk-item {position: relative;z-index: 1;}#sk-container-id-31 div.sk-parallel {display: flex;align-items: stretch;justify-content: center;background-color: white;position: relative;}#sk-container-id-31 div.sk-item::before, #sk-container-id-31 div.sk-parallel-item::before {content: \"\";position: absolute;border-left: 1px solid gray;box-sizing: border-box;top: 0;bottom: 0;left: 50%;z-index: -1;}#sk-container-id-31 div.sk-parallel-item {display: flex;flex-direction: column;z-index: 1;position: relative;background-color: white;}#sk-container-id-31 div.sk-parallel-item:first-child::after {align-self: flex-end;width: 50%;}#sk-container-id-31 div.sk-parallel-item:last-child::after {align-self: flex-start;width: 50%;}#sk-container-id-31 div.sk-parallel-item:only-child::after {width: 0;}#sk-container-id-31 div.sk-dashed-wrapped {border: 1px dashed gray;margin: 0 0.4em 0.5em 0.4em;box-sizing: border-box;padding-bottom: 0.4em;background-color: white;}#sk-container-id-31 div.sk-label label {font-family: monospace;font-weight: bold;display: inline-block;line-height: 1.2em;}#sk-container-id-31 div.sk-label-container {text-align: center;}#sk-container-id-31 div.sk-container {/* jupyter's `normalize.less` sets `[hidden] { display: none; }` but bootstrap.min.css set `[hidden] { display: none !important; }` so we also need the `!important` here to be able to override the default hidden behavior on the sphinx rendered scikit-learn.org. See: https://github.com/scikit-learn/scikit-learn/issues/21755 */display: inline-block !important;position: relative;}#sk-container-id-31 div.sk-text-repr-fallback {display: none;}</style><div id=\"sk-container-id-31\" class=\"sk-top-container\"><div class=\"sk-text-repr-fallback\"><pre>RandomForestClassifier(random_state=42)</pre><b>In a Jupyter environment, please rerun this cell to show the HTML representation or trust the notebook. <br />On GitHub, the HTML representation is unable to render, please try loading this page with nbviewer.org.</b></div><div class=\"sk-container\" hidden><div class=\"sk-item\"><div class=\"sk-estimator sk-toggleable\"><input class=\"sk-toggleable__control sk-hidden--visually\" id=\"sk-estimator-id-35\" type=\"checkbox\" checked><label for=\"sk-estimator-id-35\" class=\"sk-toggleable__label sk-toggleable__label-arrow\">RandomForestClassifier</label><div class=\"sk-toggleable__content\"><pre>RandomForestClassifier(random_state=42)</pre></div></div></div></div></div>"
      ],
      "text/plain": [
       "RandomForestClassifier(random_state=42)"
      ]
     },
     "execution_count": 346,
     "metadata": {},
     "output_type": "execute_result"
    }
   ],
   "source": [
    "from sklearn.ensemble import RandomForestClassifier\n",
    "rf_classifier = RandomForestClassifier(n_estimators = 100, random_state = 42)\n",
    "rf_classifier.fit(X_train, y_train)"
   ]
  },
  {
   "cell_type": "code",
   "execution_count": 347,
   "id": "c02ac5c9",
   "metadata": {},
   "outputs": [
    {
     "data": {
      "text/plain": [
       "1.0"
      ]
     },
     "execution_count": 347,
     "metadata": {},
     "output_type": "execute_result"
    }
   ],
   "source": [
    "rf_classifier.score(X_train,y_train)"
   ]
  },
  {
   "cell_type": "code",
   "execution_count": 348,
   "id": "8175a739",
   "metadata": {},
   "outputs": [
    {
     "data": {
      "text/plain": [
       "0.847457627118644"
      ]
     },
     "execution_count": 348,
     "metadata": {},
     "output_type": "execute_result"
    }
   ],
   "source": [
    "rf_classifier.score(X_test,y_test)"
   ]
  },
  {
   "cell_type": "code",
   "execution_count": 349,
   "id": "a2fbd063",
   "metadata": {},
   "outputs": [
    {
     "data": {
      "text/plain": [
       "array([1, 1, 1, 0, 1, 1, 1, 1, 0, 1, 0, 0, 1, 1, 1, 0, 1, 1, 1, 1, 0, 1,\n",
       "       1, 1, 1, 1, 1, 1, 1, 0, 1, 1, 1, 1, 1, 1, 0, 1, 1, 1, 1, 1, 1, 0,\n",
       "       1, 1, 1, 1, 1, 1, 0, 1, 1, 0, 1, 1, 0, 1, 1], dtype=int64)"
      ]
     },
     "execution_count": 349,
     "metadata": {},
     "output_type": "execute_result"
    }
   ],
   "source": [
    "rf_pred = rf_classifier.predict(X_test)\n",
    "rf_pred"
   ]
  },
  {
   "cell_type": "code",
   "execution_count": 350,
   "id": "7a67b2e9",
   "metadata": {},
   "outputs": [
    {
     "data": {
      "text/plain": [
       "0.847457627118644"
      ]
     },
     "execution_count": 350,
     "metadata": {},
     "output_type": "execute_result"
    }
   ],
   "source": [
    "rf_accuracy = accuracy_score(y_test, rf_pred)\n",
    "rf_accuracy"
   ]
  },
  {
   "cell_type": "code",
   "execution_count": 351,
   "id": "8c30c233",
   "metadata": {},
   "outputs": [
    {
     "name": "stdout",
     "output_type": "stream",
     "text": [
      "              precision    recall  f1-score   support\n",
      "\n",
      "           0       0.92      0.58      0.71        19\n",
      "           1       0.83      0.97      0.90        40\n",
      "\n",
      "    accuracy                           0.85        59\n",
      "   macro avg       0.87      0.78      0.80        59\n",
      "weighted avg       0.86      0.85      0.84        59\n",
      "\n"
     ]
    }
   ],
   "source": [
    "rf_report = classification_report(y_test, rf_pred)\n",
    "print(rf_report)"
   ]
  },
  {
   "cell_type": "code",
   "execution_count": 352,
   "id": "2c913c79",
   "metadata": {},
   "outputs": [
    {
     "data": {
      "text/plain": [
       "array([[11,  8],\n",
       "       [ 1, 39]], dtype=int64)"
      ]
     },
     "execution_count": 352,
     "metadata": {},
     "output_type": "execute_result"
    }
   ],
   "source": [
    "rf_cm = confusion_matrix(y_test, rf_pred)\n",
    "rf_cm"
   ]
  },
  {
   "cell_type": "code",
   "execution_count": 374,
   "id": "39ebe37c",
   "metadata": {},
   "outputs": [
    {
     "name": "stdout",
     "output_type": "stream",
     "text": [
      "AUC :  0.7770\n"
     ]
    }
   ],
   "source": [
    "fpr, tpr, threshold = metrics.roc_curve(y_test, rf_pred)\n",
    "roc_auc_ada = metrics.auc(fpr, tpr)\n",
    "print(\"AUC : % 1.4f\" %(roc_auc_ada)) "
   ]
  },
  {
   "cell_type": "code",
   "execution_count": 375,
   "id": "f3fe6506",
   "metadata": {},
   "outputs": [
    {
     "data": {
      "image/png": "[encoded data removed]",
      "text/plain": [
       "<Figure size 640x480 with 1 Axes>"
      ]
     },
     "metadata": {},
     "output_type": "display_data"
    }
   ],
   "source": [
    "plt.title('Receiver Operating Characteristic')\n",
    "plt.plot(fpr, tpr, 'b', label = 'AUC = %0.2f' % roc_auc_ada)\n",
    "plt.legend(loc = 'lower right')\n",
    "plt.plot([0, 1], [0, 1],'r--')\n",
    "plt.xlim([0, 1])\n",
    "plt.ylim([0, 1])\n",
    "plt.ylabel('True Positive Rate')\n",
    "plt.xlabel('False Positive Rate')\n",
    "plt.show()"
   ]
  },
  {
   "cell_type": "markdown",
   "id": "214e981d",
   "metadata": {},
   "source": [
    "Model Scoring\n",
    "1. Accuracy :: 84%\n",
    "\n",
    "2. Re-call :: 97%\n",
    "\n",
    "3. Precision :: 83%\n",
    "\n",
    "4. F1-Score :: 90%\n",
    "\n",
    "5. ROC-AUC :: 77%"
   ]
  },
  {
   "cell_type": "markdown",
   "id": "fb4d22ff",
   "metadata": {},
   "source": [
    "### AdaBoost"
   ]
  },
  {
   "cell_type": "code",
   "execution_count": 353,
   "id": "17f01364",
   "metadata": {},
   "outputs": [
    {
     "data": {
      "text/html": [
       "<style>#sk-container-id-32 {color: black;background-color: white;}#sk-container-id-32 pre{padding: 0;}#sk-container-id-32 div.sk-toggleable {background-color: white;}#sk-container-id-32 label.sk-toggleable__label {cursor: pointer;display: block;width: 100%;margin-bottom: 0;padding: 0.3em;box-sizing: border-box;text-align: center;}#sk-container-id-32 label.sk-toggleable__label-arrow:before {content: \"▸\";float: left;margin-right: 0.25em;color: #696969;}#sk-container-id-32 label.sk-toggleable__label-arrow:hover:before {color: black;}#sk-container-id-32 div.sk-estimator:hover label.sk-toggleable__label-arrow:before {color: black;}#sk-container-id-32 div.sk-toggleable__content {max-height: 0;max-width: 0;overflow: hidden;text-align: left;background-color: #f0f8ff;}#sk-container-id-32 div.sk-toggleable__content pre {margin: 0.2em;color: black;border-radius: 0.25em;background-color: #f0f8ff;}#sk-container-id-32 input.sk-toggleable__control:checked~div.sk-toggleable__content {max-height: 200px;max-width: 100%;overflow: auto;}#sk-container-id-32 input.sk-toggleable__control:checked~label.sk-toggleable__label-arrow:before {content: \"▾\";}#sk-container-id-32 div.sk-estimator input.sk-toggleable__control:checked~label.sk-toggleable__label {background-color: #d4ebff;}#sk-container-id-32 div.sk-label input.sk-toggleable__control:checked~label.sk-toggleable__label {background-color: #d4ebff;}#sk-container-id-32 input.sk-hidden--visually {border: 0;clip: rect(1px 1px 1px 1px);clip: rect(1px, 1px, 1px, 1px);height: 1px;margin: -1px;overflow: hidden;padding: 0;position: absolute;width: 1px;}#sk-container-id-32 div.sk-estimator {font-family: monospace;background-color: #f0f8ff;border: 1px dotted black;border-radius: 0.25em;box-sizing: border-box;margin-bottom: 0.5em;}#sk-container-id-32 div.sk-estimator:hover {background-color: #d4ebff;}#sk-container-id-32 div.sk-parallel-item::after {content: \"\";width: 100%;border-bottom: 1px solid gray;flex-grow: 1;}#sk-container-id-32 div.sk-label:hover label.sk-toggleable__label {background-color: #d4ebff;}#sk-container-id-32 div.sk-serial::before {content: \"\";position: absolute;border-left: 1px solid gray;box-sizing: border-box;top: 0;bottom: 0;left: 50%;z-index: 0;}#sk-container-id-32 div.sk-serial {display: flex;flex-direction: column;align-items: center;background-color: white;padding-right: 0.2em;padding-left: 0.2em;position: relative;}#sk-container-id-32 div.sk-item {position: relative;z-index: 1;}#sk-container-id-32 div.sk-parallel {display: flex;align-items: stretch;justify-content: center;background-color: white;position: relative;}#sk-container-id-32 div.sk-item::before, #sk-container-id-32 div.sk-parallel-item::before {content: \"\";position: absolute;border-left: 1px solid gray;box-sizing: border-box;top: 0;bottom: 0;left: 50%;z-index: -1;}#sk-container-id-32 div.sk-parallel-item {display: flex;flex-direction: column;z-index: 1;position: relative;background-color: white;}#sk-container-id-32 div.sk-parallel-item:first-child::after {align-self: flex-end;width: 50%;}#sk-container-id-32 div.sk-parallel-item:last-child::after {align-self: flex-start;width: 50%;}#sk-container-id-32 div.sk-parallel-item:only-child::after {width: 0;}#sk-container-id-32 div.sk-dashed-wrapped {border: 1px dashed gray;margin: 0 0.4em 0.5em 0.4em;box-sizing: border-box;padding-bottom: 0.4em;background-color: white;}#sk-container-id-32 div.sk-label label {font-family: monospace;font-weight: bold;display: inline-block;line-height: 1.2em;}#sk-container-id-32 div.sk-label-container {text-align: center;}#sk-container-id-32 div.sk-container {/* jupyter's `normalize.less` sets `[hidden] { display: none; }` but bootstrap.min.css set `[hidden] { display: none !important; }` so we also need the `!important` here to be able to override the default hidden behavior on the sphinx rendered scikit-learn.org. See: https://github.com/scikit-learn/scikit-learn/issues/21755 */display: inline-block !important;position: relative;}#sk-container-id-32 div.sk-text-repr-fallback {display: none;}</style><div id=\"sk-container-id-32\" class=\"sk-top-container\"><div class=\"sk-text-repr-fallback\"><pre>AdaBoostClassifier(learning_rate=0.8, random_state=0)</pre><b>In a Jupyter environment, please rerun this cell to show the HTML representation or trust the notebook. <br />On GitHub, the HTML representation is unable to render, please try loading this page with nbviewer.org.</b></div><div class=\"sk-container\" hidden><div class=\"sk-item\"><div class=\"sk-estimator sk-toggleable\"><input class=\"sk-toggleable__control sk-hidden--visually\" id=\"sk-estimator-id-36\" type=\"checkbox\" checked><label for=\"sk-estimator-id-36\" class=\"sk-toggleable__label sk-toggleable__label-arrow\">AdaBoostClassifier</label><div class=\"sk-toggleable__content\"><pre>AdaBoostClassifier(learning_rate=0.8, random_state=0)</pre></div></div></div></div></div>"
      ],
      "text/plain": [
       "AdaBoostClassifier(learning_rate=0.8, random_state=0)"
      ]
     },
     "execution_count": 353,
     "metadata": {},
     "output_type": "execute_result"
    }
   ],
   "source": [
    "from sklearn.ensemble import AdaBoostClassifier\n",
    "ab_classifier=AdaBoostClassifier(n_estimators=50, learning_rate=0.8, random_state=0)\n",
    "ab_classifier.fit(X_train,y_train)"
   ]
  },
  {
   "cell_type": "code",
   "execution_count": 354,
   "id": "8f91720a",
   "metadata": {},
   "outputs": [
    {
     "data": {
      "text/plain": [
       "1.0"
      ]
     },
     "execution_count": 354,
     "metadata": {},
     "output_type": "execute_result"
    }
   ],
   "source": [
    "ab_classifier.score(X_train,y_train)"
   ]
  },
  {
   "cell_type": "code",
   "execution_count": 355,
   "id": "492a04fe",
   "metadata": {},
   "outputs": [
    {
     "data": {
      "text/plain": [
       "0.9152542372881356"
      ]
     },
     "execution_count": 355,
     "metadata": {},
     "output_type": "execute_result"
    }
   ],
   "source": [
    "ab_classifier.score(X_test, y_test)"
   ]
  },
  {
   "cell_type": "code",
   "execution_count": 356,
   "id": "9b1c1489",
   "metadata": {},
   "outputs": [
    {
     "data": {
      "text/plain": [
       "array([1, 1, 1, 0, 1, 1, 1, 1, 0, 1, 1, 0, 1, 1, 1, 0, 1, 1, 1, 1, 0, 1,\n",
       "       1, 1, 1, 1, 1, 1, 1, 0, 1, 0, 1, 1, 1, 1, 0, 1, 0, 1, 1, 1, 1, 0,\n",
       "       1, 1, 1, 1, 1, 1, 0, 0, 1, 0, 1, 0, 0, 1, 0], dtype=int64)"
      ]
     },
     "execution_count": 356,
     "metadata": {},
     "output_type": "execute_result"
    }
   ],
   "source": [
    "ab_pred = ab_classifier.predict(X_test)\n",
    "ab_pred"
   ]
  },
  {
   "cell_type": "code",
   "execution_count": 357,
   "id": "105fc50f",
   "metadata": {},
   "outputs": [
    {
     "data": {
      "text/plain": [
       "0.9152542372881356"
      ]
     },
     "execution_count": 357,
     "metadata": {},
     "output_type": "execute_result"
    }
   ],
   "source": [
    "ab_accuracy = accuracy_score(y_test,ab_pred)\n",
    "ab_accuracy"
   ]
  },
  {
   "cell_type": "code",
   "execution_count": 358,
   "id": "9638cee5",
   "metadata": {},
   "outputs": [
    {
     "name": "stdout",
     "output_type": "stream",
     "text": [
      "              precision    recall  f1-score   support\n",
      "\n",
      "           0       0.94      0.79      0.86        19\n",
      "           1       0.91      0.97      0.94        40\n",
      "\n",
      "    accuracy                           0.92        59\n",
      "   macro avg       0.92      0.88      0.90        59\n",
      "weighted avg       0.92      0.92      0.91        59\n",
      "\n"
     ]
    }
   ],
   "source": [
    "ab_report = classification_report(y_test, ab_pred)\n",
    "print(ab_report)"
   ]
  },
  {
   "cell_type": "code",
   "execution_count": 359,
   "id": "c5fe6678",
   "metadata": {},
   "outputs": [
    {
     "data": {
      "text/plain": [
       "array([[15,  4],\n",
       "       [ 1, 39]], dtype=int64)"
      ]
     },
     "execution_count": 359,
     "metadata": {},
     "output_type": "execute_result"
    }
   ],
   "source": [
    "ab_cm = confusion_matrix(y_test, ab_pred)\n",
    "ab_cm"
   ]
  },
  {
   "cell_type": "code",
   "execution_count": 372,
   "id": "30a2bfbf",
   "metadata": {},
   "outputs": [
    {
     "name": "stdout",
     "output_type": "stream",
     "text": [
      "AUC :  0.8822\n"
     ]
    }
   ],
   "source": [
    "from sklearn import metrics\n",
    "fpr, tpr, threshold = metrics.roc_curve(y_test, ab_pred)\n",
    "roc_auc_ada = metrics.auc(fpr, tpr)\n",
    "print(\"AUC : % 1.4f\" %(roc_auc_ada)) "
   ]
  },
  {
   "cell_type": "code",
   "execution_count": 373,
   "id": "14c51d27",
   "metadata": {},
   "outputs": [
    {
     "data": {
      "image/png": "[encoded data removed]",
      "text/plain": [
       "<Figure size 640x480 with 1 Axes>"
      ]
     },
     "metadata": {},
     "output_type": "display_data"
    }
   ],
   "source": [
    "plt.title('Receiver Operating Characteristic')\n",
    "plt.plot(fpr, tpr, 'b', label = 'AUC = %0.2f' % roc_auc_ada)\n",
    "plt.legend(loc = 'lower right')\n",
    "plt.plot([0, 1], [0, 1],'r--')\n",
    "plt.xlim([0, 1])\n",
    "plt.ylim([0, 1])\n",
    "plt.ylabel('True Positive Rate')\n",
    "plt.xlabel('False Positive Rate')\n",
    "plt.show()"
   ]
  },
  {
   "cell_type": "markdown",
   "id": "72c1c5f3",
   "metadata": {},
   "source": [
    "Model Scoring\n",
    "1. Accuracy :: 91%\n",
    "\n",
    "2. Re-call :: 97%\n",
    "\n",
    "3. Precision :: 91%\n",
    "\n",
    "4. F1-Score :: 94%\n",
    "\n",
    "5. ROC-AUC :: 88%"
   ]
  },
  {
   "cell_type": "markdown",
   "id": "961a5ab0",
   "metadata": {},
   "source": [
    "### Gradient Boost"
   ]
  },
  {
   "cell_type": "code",
   "execution_count": 360,
   "id": "4735d8d4",
   "metadata": {},
   "outputs": [
    {
     "data": {
      "text/html": [
       "<style>#sk-container-id-33 {color: black;background-color: white;}#sk-container-id-33 pre{padding: 0;}#sk-container-id-33 div.sk-toggleable {background-color: white;}#sk-container-id-33 label.sk-toggleable__label {cursor: pointer;display: block;width: 100%;margin-bottom: 0;padding: 0.3em;box-sizing: border-box;text-align: center;}#sk-container-id-33 label.sk-toggleable__label-arrow:before {content: \"▸\";float: left;margin-right: 0.25em;color: #696969;}#sk-container-id-33 label.sk-toggleable__label-arrow:hover:before {color: black;}#sk-container-id-33 div.sk-estimator:hover label.sk-toggleable__label-arrow:before {color: black;}#sk-container-id-33 div.sk-toggleable__content {max-height: 0;max-width: 0;overflow: hidden;text-align: left;background-color: #f0f8ff;}#sk-container-id-33 div.sk-toggleable__content pre {margin: 0.2em;color: black;border-radius: 0.25em;background-color: #f0f8ff;}#sk-container-id-33 input.sk-toggleable__control:checked~div.sk-toggleable__content {max-height: 200px;max-width: 100%;overflow: auto;}#sk-container-id-33 input.sk-toggleable__control:checked~label.sk-toggleable__label-arrow:before {content: \"▾\";}#sk-container-id-33 div.sk-estimator input.sk-toggleable__control:checked~label.sk-toggleable__label {background-color: #d4ebff;}#sk-container-id-33 div.sk-label input.sk-toggleable__control:checked~label.sk-toggleable__label {background-color: #d4ebff;}#sk-container-id-33 input.sk-hidden--visually {border: 0;clip: rect(1px 1px 1px 1px);clip: rect(1px, 1px, 1px, 1px);height: 1px;margin: -1px;overflow: hidden;padding: 0;position: absolute;width: 1px;}#sk-container-id-33 div.sk-estimator {font-family: monospace;background-color: #f0f8ff;border: 1px dotted black;border-radius: 0.25em;box-sizing: border-box;margin-bottom: 0.5em;}#sk-container-id-33 div.sk-estimator:hover {background-color: #d4ebff;}#sk-container-id-33 div.sk-parallel-item::after {content: \"\";width: 100%;border-bottom: 1px solid gray;flex-grow: 1;}#sk-container-id-33 div.sk-label:hover label.sk-toggleable__label {background-color: #d4ebff;}#sk-container-id-33 div.sk-serial::before {content: \"\";position: absolute;border-left: 1px solid gray;box-sizing: border-box;top: 0;bottom: 0;left: 50%;z-index: 0;}#sk-container-id-33 div.sk-serial {display: flex;flex-direction: column;align-items: center;background-color: white;padding-right: 0.2em;padding-left: 0.2em;position: relative;}#sk-container-id-33 div.sk-item {position: relative;z-index: 1;}#sk-container-id-33 div.sk-parallel {display: flex;align-items: stretch;justify-content: center;background-color: white;position: relative;}#sk-container-id-33 div.sk-item::before, #sk-container-id-33 div.sk-parallel-item::before {content: \"\";position: absolute;border-left: 1px solid gray;box-sizing: border-box;top: 0;bottom: 0;left: 50%;z-index: -1;}#sk-container-id-33 div.sk-parallel-item {display: flex;flex-direction: column;z-index: 1;position: relative;background-color: white;}#sk-container-id-33 div.sk-parallel-item:first-child::after {align-self: flex-end;width: 50%;}#sk-container-id-33 div.sk-parallel-item:last-child::after {align-self: flex-start;width: 50%;}#sk-container-id-33 div.sk-parallel-item:only-child::after {width: 0;}#sk-container-id-33 div.sk-dashed-wrapped {border: 1px dashed gray;margin: 0 0.4em 0.5em 0.4em;box-sizing: border-box;padding-bottom: 0.4em;background-color: white;}#sk-container-id-33 div.sk-label label {font-family: monospace;font-weight: bold;display: inline-block;line-height: 1.2em;}#sk-container-id-33 div.sk-label-container {text-align: center;}#sk-container-id-33 div.sk-container {/* jupyter's `normalize.less` sets `[hidden] { display: none; }` but bootstrap.min.css set `[hidden] { display: none !important; }` so we also need the `!important` here to be able to override the default hidden behavior on the sphinx rendered scikit-learn.org. See: https://github.com/scikit-learn/scikit-learn/issues/21755 */display: inline-block !important;position: relative;}#sk-container-id-33 div.sk-text-repr-fallback {display: none;}</style><div id=\"sk-container-id-33\" class=\"sk-top-container\"><div class=\"sk-text-repr-fallback\"><pre>GradientBoostingClassifier(learning_rate=0.05, n_estimators=500, random_state=0)</pre><b>In a Jupyter environment, please rerun this cell to show the HTML representation or trust the notebook. <br />On GitHub, the HTML representation is unable to render, please try loading this page with nbviewer.org.</b></div><div class=\"sk-container\" hidden><div class=\"sk-item\"><div class=\"sk-estimator sk-toggleable\"><input class=\"sk-toggleable__control sk-hidden--visually\" id=\"sk-estimator-id-37\" type=\"checkbox\" checked><label for=\"sk-estimator-id-37\" class=\"sk-toggleable__label sk-toggleable__label-arrow\">GradientBoostingClassifier</label><div class=\"sk-toggleable__content\"><pre>GradientBoostingClassifier(learning_rate=0.05, n_estimators=500, random_state=0)</pre></div></div></div></div></div>"
      ],
      "text/plain": [
       "GradientBoostingClassifier(learning_rate=0.05, n_estimators=500, random_state=0)"
      ]
     },
     "execution_count": 360,
     "metadata": {},
     "output_type": "execute_result"
    }
   ],
   "source": [
    "from sklearn.ensemble import GradientBoostingClassifier\n",
    "gb_classifier = GradientBoostingClassifier(n_estimators=500, learning_rate=0.05, random_state=0)\n",
    "gb_classifier.fit(X_train, y_train)"
   ]
  },
  {
   "cell_type": "code",
   "execution_count": 361,
   "id": "593f9cf6",
   "metadata": {},
   "outputs": [
    {
     "data": {
      "text/plain": [
       "1.0"
      ]
     },
     "execution_count": 361,
     "metadata": {},
     "output_type": "execute_result"
    }
   ],
   "source": [
    "gb_classifier.score(X_train , y_train)"
   ]
  },
  {
   "cell_type": "code",
   "execution_count": 362,
   "id": "fc3633a3",
   "metadata": {},
   "outputs": [
    {
     "data": {
      "text/plain": [
       "0.8813559322033898"
      ]
     },
     "execution_count": 362,
     "metadata": {},
     "output_type": "execute_result"
    }
   ],
   "source": [
    "gb_classifier.score(X_test, y_test)"
   ]
  },
  {
   "cell_type": "code",
   "execution_count": 363,
   "id": "36085db4",
   "metadata": {},
   "outputs": [
    {
     "data": {
      "text/plain": [
       "array([1, 1, 1, 0, 1, 1, 1, 1, 0, 1, 1, 0, 1, 1, 1, 0, 1, 1, 1, 1, 0, 1,\n",
       "       1, 1, 1, 1, 1, 1, 1, 0, 1, 1, 1, 0, 1, 1, 0, 1, 1, 1, 1, 1, 1, 0,\n",
       "       1, 1, 1, 1, 1, 1, 0, 1, 1, 0, 1, 1, 0, 1, 1], dtype=int64)"
      ]
     },
     "execution_count": 363,
     "metadata": {},
     "output_type": "execute_result"
    }
   ],
   "source": [
    "gb_pred = gb_classifier.predict(X_test)\n",
    "gb_pred"
   ]
  },
  {
   "cell_type": "code",
   "execution_count": 364,
   "id": "a7925481",
   "metadata": {},
   "outputs": [
    {
     "data": {
      "text/plain": [
       "0.8813559322033898"
      ]
     },
     "execution_count": 364,
     "metadata": {},
     "output_type": "execute_result"
    }
   ],
   "source": [
    "gb_accuracy = accuracy_score(y_test,gb_pred)\n",
    "gb_accuracy"
   ]
  },
  {
   "cell_type": "code",
   "execution_count": 370,
   "id": "df44c07f",
   "metadata": {},
   "outputs": [
    {
     "name": "stdout",
     "output_type": "stream",
     "text": [
      "              precision    recall  f1-score   support\n",
      "\n",
      "           0       1.00      0.63      0.77        19\n",
      "           1       0.85      1.00      0.92        40\n",
      "\n",
      "    accuracy                           0.88        59\n",
      "   macro avg       0.93      0.82      0.85        59\n",
      "weighted avg       0.90      0.88      0.87        59\n",
      "\n"
     ]
    }
   ],
   "source": [
    "gb_report = classification_report(y_test,gb_pred)\n",
    "print(gb_report)"
   ]
  },
  {
   "cell_type": "code",
   "execution_count": 366,
   "id": "090bb2b1",
   "metadata": {},
   "outputs": [
    {
     "data": {
      "text/plain": [
       "array([[12,  7],\n",
       "       [ 0, 40]], dtype=int64)"
      ]
     },
     "execution_count": 366,
     "metadata": {},
     "output_type": "execute_result"
    }
   ],
   "source": [
    "gb_cm = confusion_matrix(y_test,gb_pred)\n",
    "gb_cm"
   ]
  },
  {
   "cell_type": "code",
   "execution_count": 376,
   "id": "462fb47c",
   "metadata": {},
   "outputs": [
    {
     "name": "stdout",
     "output_type": "stream",
     "text": [
      "AUC :  0.8158\n"
     ]
    }
   ],
   "source": [
    "fpr, tpr, threshold = metrics.roc_curve(y_test, gb_pred)\n",
    "roc_auc_ada = metrics.auc(fpr, tpr)\n",
    "print(\"AUC : % 1.4f\" %(roc_auc_ada)) "
   ]
  },
  {
   "cell_type": "code",
   "execution_count": 377,
   "id": "df6aa5b4",
   "metadata": {},
   "outputs": [
    {
     "data": {
      "image/png": "[encoded data removed]",
      "text/plain": [
       "<Figure size 640x480 with 1 Axes>"
      ]
     },
     "metadata": {},
     "output_type": "display_data"
    }
   ],
   "source": [
    "plt.title('Receiver Operating Characteristic')\n",
    "plt.plot(fpr, tpr, 'b', label = 'AUC = %0.2f' % roc_auc_ada)\n",
    "plt.legend(loc = 'lower right')\n",
    "plt.plot([0, 1], [0, 1],'r--')\n",
    "plt.xlim([0, 1])\n",
    "plt.ylim([0, 1])\n",
    "plt.ylabel('True Positive Rate')\n",
    "plt.xlabel('False Positive Rate')\n",
    "plt.show()"
   ]
  },
  {
   "cell_type": "code",
   "execution_count": 367,
   "id": "2903b2c9",
   "metadata": {},
   "outputs": [],
   "source": [
    "from sklearn.model_selection import GridSearchCV\n",
    "grid = {'learning_rate':[0.01,0.05,0.1], 'n_estimators':np.arange(100,500,100),'max_depth':[2,3,4,5,6,7] }"
   ]
  },
  {
   "cell_type": "code",
   "execution_count": 368,
   "id": "6ce74cb3",
   "metadata": {},
   "outputs": [
    {
     "data": {
      "text/html": [
       "<style>#sk-container-id-34 {color: black;background-color: white;}#sk-container-id-34 pre{padding: 0;}#sk-container-id-34 div.sk-toggleable {background-color: white;}#sk-container-id-34 label.sk-toggleable__label {cursor: pointer;display: block;width: 100%;margin-bottom: 0;padding: 0.3em;box-sizing: border-box;text-align: center;}#sk-container-id-34 label.sk-toggleable__label-arrow:before {content: \"▸\";float: left;margin-right: 0.25em;color: #696969;}#sk-container-id-34 label.sk-toggleable__label-arrow:hover:before {color: black;}#sk-container-id-34 div.sk-estimator:hover label.sk-toggleable__label-arrow:before {color: black;}#sk-container-id-34 div.sk-toggleable__content {max-height: 0;max-width: 0;overflow: hidden;text-align: left;background-color: #f0f8ff;}#sk-container-id-34 div.sk-toggleable__content pre {margin: 0.2em;color: black;border-radius: 0.25em;background-color: #f0f8ff;}#sk-container-id-34 input.sk-toggleable__control:checked~div.sk-toggleable__content {max-height: 200px;max-width: 100%;overflow: auto;}#sk-container-id-34 input.sk-toggleable__control:checked~label.sk-toggleable__label-arrow:before {content: \"▾\";}#sk-container-id-34 div.sk-estimator input.sk-toggleable__control:checked~label.sk-toggleable__label {background-color: #d4ebff;}#sk-container-id-34 div.sk-label input.sk-toggleable__control:checked~label.sk-toggleable__label {background-color: #d4ebff;}#sk-container-id-34 input.sk-hidden--visually {border: 0;clip: rect(1px 1px 1px 1px);clip: rect(1px, 1px, 1px, 1px);height: 1px;margin: -1px;overflow: hidden;padding: 0;position: absolute;width: 1px;}#sk-container-id-34 div.sk-estimator {font-family: monospace;background-color: #f0f8ff;border: 1px dotted black;border-radius: 0.25em;box-sizing: border-box;margin-bottom: 0.5em;}#sk-container-id-34 div.sk-estimator:hover {background-color: #d4ebff;}#sk-container-id-34 div.sk-parallel-item::after {content: \"\";width: 100%;border-bottom: 1px solid gray;flex-grow: 1;}#sk-container-id-34 div.sk-label:hover label.sk-toggleable__label {background-color: #d4ebff;}#sk-container-id-34 div.sk-serial::before {content: \"\";position: absolute;border-left: 1px solid gray;box-sizing: border-box;top: 0;bottom: 0;left: 50%;z-index: 0;}#sk-container-id-34 div.sk-serial {display: flex;flex-direction: column;align-items: center;background-color: white;padding-right: 0.2em;padding-left: 0.2em;position: relative;}#sk-container-id-34 div.sk-item {position: relative;z-index: 1;}#sk-container-id-34 div.sk-parallel {display: flex;align-items: stretch;justify-content: center;background-color: white;position: relative;}#sk-container-id-34 div.sk-item::before, #sk-container-id-34 div.sk-parallel-item::before {content: \"\";position: absolute;border-left: 1px solid gray;box-sizing: border-box;top: 0;bottom: 0;left: 50%;z-index: -1;}#sk-container-id-34 div.sk-parallel-item {display: flex;flex-direction: column;z-index: 1;position: relative;background-color: white;}#sk-container-id-34 div.sk-parallel-item:first-child::after {align-self: flex-end;width: 50%;}#sk-container-id-34 div.sk-parallel-item:last-child::after {align-self: flex-start;width: 50%;}#sk-container-id-34 div.sk-parallel-item:only-child::after {width: 0;}#sk-container-id-34 div.sk-dashed-wrapped {border: 1px dashed gray;margin: 0 0.4em 0.5em 0.4em;box-sizing: border-box;padding-bottom: 0.4em;background-color: white;}#sk-container-id-34 div.sk-label label {font-family: monospace;font-weight: bold;display: inline-block;line-height: 1.2em;}#sk-container-id-34 div.sk-label-container {text-align: center;}#sk-container-id-34 div.sk-container {/* jupyter's `normalize.less` sets `[hidden] { display: none; }` but bootstrap.min.css set `[hidden] { display: none !important; }` so we also need the `!important` here to be able to override the default hidden behavior on the sphinx rendered scikit-learn.org. See: https://github.com/scikit-learn/scikit-learn/issues/21755 */display: inline-block !important;position: relative;}#sk-container-id-34 div.sk-text-repr-fallback {display: none;}</style><div id=\"sk-container-id-34\" class=\"sk-top-container\"><div class=\"sk-text-repr-fallback\"><pre>GridSearchCV(cv=4,\n",
       "             estimator=GradientBoostingClassifier(learning_rate=0.05,\n",
       "                                                  n_estimators=500,\n",
       "                                                  random_state=0),\n",
       "             param_grid={&#x27;learning_rate&#x27;: [0.01, 0.05, 0.1],\n",
       "                         &#x27;max_depth&#x27;: [2, 3, 4, 5, 6, 7],\n",
       "                         &#x27;n_estimators&#x27;: array([100, 200, 300, 400])})</pre><b>In a Jupyter environment, please rerun this cell to show the HTML representation or trust the notebook. <br />On GitHub, the HTML representation is unable to render, please try loading this page with nbviewer.org.</b></div><div class=\"sk-container\" hidden><div class=\"sk-item sk-dashed-wrapped\"><div class=\"sk-label-container\"><div class=\"sk-label sk-toggleable\"><input class=\"sk-toggleable__control sk-hidden--visually\" id=\"sk-estimator-id-38\" type=\"checkbox\" ><label for=\"sk-estimator-id-38\" class=\"sk-toggleable__label sk-toggleable__label-arrow\">GridSearchCV</label><div class=\"sk-toggleable__content\"><pre>GridSearchCV(cv=4,\n",
       "             estimator=GradientBoostingClassifier(learning_rate=0.05,\n",
       "                                                  n_estimators=500,\n",
       "                                                  random_state=0),\n",
       "             param_grid={&#x27;learning_rate&#x27;: [0.01, 0.05, 0.1],\n",
       "                         &#x27;max_depth&#x27;: [2, 3, 4, 5, 6, 7],\n",
       "                         &#x27;n_estimators&#x27;: array([100, 200, 300, 400])})</pre></div></div></div><div class=\"sk-parallel\"><div class=\"sk-parallel-item\"><div class=\"sk-item\"><div class=\"sk-label-container\"><div class=\"sk-label sk-toggleable\"><input class=\"sk-toggleable__control sk-hidden--visually\" id=\"sk-estimator-id-39\" type=\"checkbox\" ><label for=\"sk-estimator-id-39\" class=\"sk-toggleable__label sk-toggleable__label-arrow\">estimator: GradientBoostingClassifier</label><div class=\"sk-toggleable__content\"><pre>GradientBoostingClassifier(learning_rate=0.05, n_estimators=500, random_state=0)</pre></div></div></div><div class=\"sk-serial\"><div class=\"sk-item\"><div class=\"sk-estimator sk-toggleable\"><input class=\"sk-toggleable__control sk-hidden--visually\" id=\"sk-estimator-id-40\" type=\"checkbox\" ><label for=\"sk-estimator-id-40\" class=\"sk-toggleable__label sk-toggleable__label-arrow\">GradientBoostingClassifier</label><div class=\"sk-toggleable__content\"><pre>GradientBoostingClassifier(learning_rate=0.05, n_estimators=500, random_state=0)</pre></div></div></div></div></div></div></div></div></div></div>"
      ],
      "text/plain": [
       "GridSearchCV(cv=4,\n",
       "             estimator=GradientBoostingClassifier(learning_rate=0.05,\n",
       "                                                  n_estimators=500,\n",
       "                                                  random_state=0),\n",
       "             param_grid={'learning_rate': [0.01, 0.05, 0.1],\n",
       "                         'max_depth': [2, 3, 4, 5, 6, 7],\n",
       "                         'n_estimators': array([100, 200, 300, 400])})"
      ]
     },
     "execution_count": 368,
     "metadata": {},
     "output_type": "execute_result"
    }
   ],
   "source": [
    "gb_cv = GridSearchCV(gb_classifier, grid, cv = 4)\n",
    "gb_cv.fit(X_train,y_train)"
   ]
  },
  {
   "cell_type": "code",
   "execution_count": 369,
   "id": "5390b8e6",
   "metadata": {},
   "outputs": [
    {
     "name": "stdout",
     "output_type": "stream",
     "text": [
      "Best Parameters: {'learning_rate': 0.01, 'max_depth': 5, 'n_estimators': 400}\n",
      "Train Score: 0.9117647058823529\n",
      "Test Score: 0.8983050847457628\n"
     ]
    }
   ],
   "source": [
    "print(\"Best Parameters:\",gb_cv.best_params_)\n",
    "print(\"Train Score:\",gb_cv.best_score_)\n",
    "print(\"Test Score:\",gb_cv.score(X_test,y_test))"
   ]
  },
  {
   "cell_type": "markdown",
   "id": "b458ddb1",
   "metadata": {},
   "source": [
    "Model Scoring\n",
    "1. Accuracy :: 89%\n",
    "\n",
    "2. Re-call :: 100%\n",
    "\n",
    "3. Precision :: 85%\n",
    "\n",
    "4. F1-Score :: 92%\n",
    "\n",
    "5. ROC-AUC :: 82%"
   ]
  },
  {
   "cell_type": "markdown",
   "id": "ed569285",
   "metadata": {},
   "source": [
    "### Compare all the models"
   ]
  },
  {
   "cell_type": "code",
   "execution_count": 270,
   "id": "4e10a4bc",
   "metadata": {},
   "outputs": [],
   "source": [
    "models = []\n",
    "models.append(('Logistic Regression', LogisticRegression()))\n",
    "models.append(('K-NN', KNeighborsClassifier(n_neighbors = 3, weights = 'uniform', metric='euclidean')))\n",
    "models.append(('Naive Bayes', GaussianNB()))\n",
    "models.append(('SVM',SVC()))\n",
    "models.append(('Decision Tree',DecisionTreeClassifier(criterion='entropy')))\n",
    "models.append(('Random Forest', RandomForestClassifier(n_estimators = 100, random_state = 42)))\n",
    "models.append(('Adaptive Boosting', AdaBoostClassifier(n_estimators=50, learning_rate=0.8, random_state=0)))\n",
    "models.append(('Gradient Boosting',GradientBoostingClassifier(n_estimators=500, learning_rate=0.05, random_state=0)))"
   ]
  },
  {
   "cell_type": "code",
   "execution_count": 392,
   "id": "87656abb",
   "metadata": {},
   "outputs": [
    {
     "name": "stdout",
     "output_type": "stream",
     "text": [
      "Logistic Regression : Accuracy = 0.859341\n",
      "K-NN : Accuracy = 0.919780\n",
      "Naive Bayes : Accuracy = 0.699451\n",
      "SVM : Accuracy = 0.873626\n",
      "Decision Tree : Accuracy = 0.874176\n",
      "Random Forest : Accuracy = 0.889011\n",
      "Adaptive Boosting : Accuracy = 0.891209\n",
      "Gradient Boosting : Accuracy = 0.904396\n"
     ]
    }
   ],
   "source": [
    "from sklearn import model_selection\n",
    "results = []\n",
    "names = []\n",
    "scoring = 'accuracy'\n",
    "for name, model in models:\n",
    "    kfold = model_selection.KFold(n_splits=10)\n",
    "    cv_results = model_selection.cross_val_score(model, X_train, y_train, cv=kfold, scoring=scoring)\n",
    "    results.append(cv_results)\n",
    "    names.append(name)\n",
    "    print(\"%s : Accuracy = %f\" % (name, cv_results.mean()))"
   ]
  },
  {
   "cell_type": "code",
   "execution_count": 277,
   "id": "cd42282e",
   "metadata": {},
   "outputs": [
    {
     "data": {
      "text/plain": [
       "[Text(1, 0, 'Logistic Regression'),\n",
       " Text(2, 0, 'K-NN'),\n",
       " Text(3, 0, 'Naive Bayes'),\n",
       " Text(4, 0, 'SVM'),\n",
       " Text(5, 0, 'Decision Tree'),\n",
       " Text(6, 0, 'Random Forest'),\n",
       " Text(7, 0, 'Adaptive Boosting'),\n",
       " Text(8, 0, 'Gradient Boosting')]"
      ]
     },
     "execution_count": 277,
     "metadata": {},
     "output_type": "execute_result"
    },
    {
     "data": {
      "image/png": "[encoded data removed]",
      "text/plain": [
       "<Figure size 1200x400 with 1 Axes>"
      ]
     },
     "metadata": {},
     "output_type": "display_data"
    }
   ],
   "source": [
    "fig = plt.figure(figsize=(12,4))\n",
    "fig.suptitle('Algorithm Comparison')\n",
    "ax = fig.add_subplot()\n",
    "plt.boxplot(results)\n",
    "ax.set_xticklabels(names)"
   ]
  },
  {
   "cell_type": "markdown",
   "id": "63f52a3e",
   "metadata": {},
   "source": [
    "#### Accuracy\n",
    "1. Logistic Regression : Accuracy = 0.859341\n",
    "2. K-NN : Accuracy = 0.919780\n",
    "3. Naive Bayes : Accuracy = 0.699451\n",
    "4. SVM : Accuracy = 0.873626\n",
    "5. Decision Tree : Accuracy = 0.874176\n",
    "6. Random Forest : Accuracy = 0.889011\n",
    "7. Adaptive Boosting : Accuracy = 0.891209\n",
    "8. Gradient Boosting : Accuracy = 0.904396"
   ]
  }
 ],
 "metadata": {
  "kernelspec": {
   "display_name": "Python 3 (ipykernel)",
   "language": "python",
   "name": "python3"
  },
  "language_info": {
   "codemirror_mode": {
    "name": "ipython",
    "version": 3
   },
   "file_extension": ".py",
   "mimetype": "text/x-python",
   "name": "python",
   "nbconvert_exporter": "python",
   "pygments_lexer": "ipython3",
   "version": "3.10.9"
  }
 },
 "nbformat": 4,
 "nbformat_minor": 5
}
